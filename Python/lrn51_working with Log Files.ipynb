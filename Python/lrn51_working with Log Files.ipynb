{
 "cells": [
  {
   "cell_type": "code",
   "execution_count": 1,
   "id": "2ff85323-0ef1-4aa2-a31d-c388c579e622",
   "metadata": {},
   "outputs": [],
   "source": [
    "import sys\n",
    "import os\n",
    "import re"
   ]
  },
  {
   "cell_type": "code",
   "execution_count": 2,
   "id": "14658c3d-7a62-4f20-8650-df234c9a8002",
   "metadata": {},
   "outputs": [],
   "source": [
    "def error_search(log_file):\n",
    "    error=input(\"What is the error? \")\n",
    "    returned_errors=[]\n",
    "    with open(log_file,mode=\"r\",enconding=\"UTF-8\") as file:\n",
    "        for log in file.readlines():\n",
    "            error_patterns=[\"error\"]\n",
    "            \n",
    "            #parse given error \n",
    "            for i in range(len(error.split(\" \"))):\n",
    "                error_patterns.append(r\"{}\".format(error.split(\" \")[i].lower()))\n",
    "            \n",
    "            #if everything is matched,\n",
    "            if all(re.search(error_pattern,log.lower()) for error_pattern in error_patterns):\n",
    "                returned_errors.append(log)\n",
    "        file.close()\n",
    "    return returned_errors"
   ]
  },
  {
   "cell_type": "code",
   "execution_count": null,
   "id": "285dcec9-ee00-4a44-936c-c4b95a72e964",
   "metadata": {},
   "outputs": [],
   "source": [
    "def file_output(returned_errors):\n",
    "    with open(os.path.expanduser(\"~\")+\"/path/to/log.log\",\"w\") as file:\n",
    "        for error in returned_errors:\n",
    "            file.write(error)\n",
    "        file.close()\n",
    "        "
   ]
  }
 ],
 "metadata": {
  "kernelspec": {
   "display_name": "Python 3 (ipykernel)",
   "language": "python",
   "name": "python3"
  },
  "language_info": {
   "codemirror_mode": {
    "name": "ipython",
    "version": 3
   },
   "file_extension": ".py",
   "mimetype": "text/x-python",
   "name": "python",
   "nbconvert_exporter": "python",
   "pygments_lexer": "ipython3",
   "version": "3.9.4"
  }
 },
 "nbformat": 4,
 "nbformat_minor": 5
}
