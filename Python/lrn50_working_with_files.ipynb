{
 "cells": [
  {
   "cell_type": "markdown",
   "id": "56805029-2993-42a8-b2a2-b0f3b2408f35",
   "metadata": {},
   "source": [
    "### OS module\n",
    "\n",
    "-  To interactwith  operating systems"
   ]
  },
  {
   "cell_type": "code",
   "execution_count": 1,
   "id": "6e9e9494-2dad-4b1d-9f5f-c6b1e9568157",
   "metadata": {},
   "outputs": [],
   "source": [
    "import os"
   ]
  },
  {
   "cell_type": "markdown",
   "id": "7d27f013-bae3-4616-a378-74dc88e4deae",
   "metadata": {},
   "source": [
    "#### Create/delete directory"
   ]
  },
  {
   "cell_type": "code",
   "execution_count": 5,
   "id": "872025d5-1296-49cd-86f6-40f0d1c265f5",
   "metadata": {},
   "outputs": [],
   "source": [
    "os.mkdir(\"randir\")"
   ]
  },
  {
   "cell_type": "code",
   "execution_count": 6,
   "id": "3856dbde-04ae-4692-9cd7-0ba28d022c06",
   "metadata": {},
   "outputs": [],
   "source": [
    "os.removedirs(\"randir\")"
   ]
  },
  {
   "cell_type": "markdown",
   "id": "e1cbd82c-fab8-4bd3-bfaf-4187d8015694",
   "metadata": {},
   "source": [
    "#### How about create file? \n",
    "- our friendly global function, open() !"
   ]
  },
  {
   "cell_type": "code",
   "execution_count": 12,
   "id": "ce5c4f93-2ffd-4245-b3ee-1022fcd367e1",
   "metadata": {},
   "outputs": [],
   "source": [
    "a = open(\"random.txt\",\"w\")\n",
    "a.write(\"dd\")\n",
    "a.close()"
   ]
  },
  {
   "cell_type": "code",
   "execution_count": 16,
   "id": "23dde74b-9db4-4a55-a59b-e012c4f73e7d",
   "metadata": {},
   "outputs": [
    {
     "ename": "PermissionError",
     "evalue": "[WinError 32] 다른 프로세스가 파일을 사용 중이기 때문에 프로세스가 액세스 할 수 없습니다: 'random.txt'",
     "output_type": "error",
     "traceback": [
      "\u001b[1;31m---------------------------------------------------------------------------\u001b[0m",
      "\u001b[1;31mPermissionError\u001b[0m                           Traceback (most recent call last)",
      "\u001b[1;32mC:\\Users\\ADMINI~1\\AppData\\Local\\Temp/ipykernel_23360/2908481490.py\u001b[0m in \u001b[0;36m<module>\u001b[1;34m\u001b[0m\n\u001b[0;32m      1\u001b[0m \u001b[1;32mif\u001b[0m \u001b[0mos\u001b[0m\u001b[1;33m.\u001b[0m\u001b[0mpath\u001b[0m\u001b[1;33m.\u001b[0m\u001b[0mexists\u001b[0m\u001b[1;33m(\u001b[0m\u001b[1;34m\"random.txt\"\u001b[0m\u001b[1;33m)\u001b[0m\u001b[1;33m:\u001b[0m\u001b[1;33m\u001b[0m\u001b[1;33m\u001b[0m\u001b[0m\n\u001b[1;32m----> 2\u001b[1;33m     \u001b[0mos\u001b[0m\u001b[1;33m.\u001b[0m\u001b[0mremove\u001b[0m\u001b[1;33m(\u001b[0m\u001b[1;34m\"random.txt\"\u001b[0m\u001b[1;33m)\u001b[0m\u001b[1;33m\u001b[0m\u001b[1;33m\u001b[0m\u001b[0m\n\u001b[0m",
      "\u001b[1;31mPermissionError\u001b[0m: [WinError 32] 다른 프로세스가 파일을 사용 중이기 때문에 프로세스가 액세스 할 수 없습니다: 'random.txt'"
     ]
    }
   ],
   "source": [
    "if os.path.exists(\"random.txt\"):\n",
    "    os.remove(\"random.txt\")"
   ]
  },
  {
   "cell_type": "markdown",
   "id": "f9e28f26-8148-478c-957c-bedcd5437b51",
   "metadata": {
    "tags": []
   },
   "source": [
    "### file info!\n",
    "\n",
    "- os.path.getsize() file size\n",
    "- os.path.getmtime() when it was last modified\n",
    "- os.path.exists : does it exist?"
   ]
  },
  {
   "cell_type": "code",
   "execution_count": 19,
   "id": "3c5f9967-d151-4bf6-ba63-f9a01ed325b3",
   "metadata": {},
   "outputs": [
    {
     "data": {
      "text/plain": [
       "1685"
      ]
     },
     "execution_count": 19,
     "metadata": {},
     "output_type": "execute_result"
    }
   ],
   "source": [
    "os.path.getsize(\"lrn08_CLASS_inheritance.py\")"
   ]
  },
  {
   "cell_type": "code",
   "execution_count": 21,
   "id": "b44bddab-a8ef-45dd-8057-dc3c3ee3516a",
   "metadata": {},
   "outputs": [
    {
     "data": {
      "text/plain": [
       "1622352489.4418538"
      ]
     },
     "execution_count": 21,
     "metadata": {},
     "output_type": "execute_result"
    }
   ],
   "source": [
    "os.path.getmtime(\"lrn02_FUNCTION_parameter.py\")"
   ]
  },
  {
   "cell_type": "markdown",
   "id": "1f38e828-a9a1-47bd-9e76-5cdd1eb34765",
   "metadata": {},
   "source": [
    "#### huh? turns out, it return UNIX timestamp. "
   ]
  },
  {
   "cell_type": "code",
   "execution_count": 16,
   "id": "fff624bc-49bc-47dd-88cf-ba34c5a8ad40",
   "metadata": {},
   "outputs": [],
   "source": [
    "import datetime\n",
    "timestamp =os.path.getmtime(\"../lrn02_FUNCTION_parameter.py\")"
   ]
  },
  {
   "cell_type": "code",
   "execution_count": 24,
   "id": "78e97d51-9288-46c1-8385-074aa3249c06",
   "metadata": {},
   "outputs": [],
   "source": [
    "time = datetime.datetime.fromtimestamp(timestamp)"
   ]
  },
  {
   "cell_type": "code",
   "execution_count": 30,
   "id": "b58d94aa-1ce9-4986-8e9d-cad896dc96d0",
   "metadata": {},
   "outputs": [
    {
     "data": {
      "text/plain": [
       "datetime.datetime(2021, 5, 30, 14, 28, 9, 441854)"
      ]
     },
     "execution_count": 30,
     "metadata": {},
     "output_type": "execute_result"
    }
   ],
   "source": [
    "time"
   ]
  },
  {
   "cell_type": "code",
   "execution_count": 32,
   "id": "b6b9968a-dabc-4e90-b546-9d9c364c6bfe",
   "metadata": {},
   "outputs": [
    {
     "data": {
      "text/plain": [
       "'Sun May 30 14:28:09 2021'"
      ]
     },
     "execution_count": 32,
     "metadata": {},
     "output_type": "execute_result"
    }
   ],
   "source": [
    "time.ctime()"
   ]
  },
  {
   "cell_type": "code",
   "execution_count": 33,
   "id": "62939108-d0c1-4131-9499-694d47280328",
   "metadata": {},
   "outputs": [],
   "source": [
    "os.mkdir(\"abc\")\n"
   ]
  },
  {
   "cell_type": "code",
   "execution_count": 34,
   "id": "14b6f4c4-e91d-4a24-9e75-f053c56a9168",
   "metadata": {},
   "outputs": [
    {
     "data": {
      "text/plain": [
       "True"
      ]
     },
     "execution_count": 34,
     "metadata": {},
     "output_type": "execute_result"
    }
   ],
   "source": [
    "os.path.exists(\"abc\")\n"
   ]
  },
  {
   "cell_type": "code",
   "execution_count": 35,
   "id": "01798efb-b502-4141-896f-624e2f04a125",
   "metadata": {},
   "outputs": [
    {
     "data": {
      "text/plain": [
       "False"
      ]
     },
     "execution_count": 35,
     "metadata": {},
     "output_type": "execute_result"
    }
   ],
   "source": [
    "os.path.isfile(\"abc\")"
   ]
  },
  {
   "cell_type": "code",
   "execution_count": 36,
   "id": "da656fb8-6697-403b-9383-19f224f82098",
   "metadata": {},
   "outputs": [
    {
     "data": {
      "text/plain": [
       "True"
      ]
     },
     "execution_count": 36,
     "metadata": {},
     "output_type": "execute_result"
    }
   ],
   "source": [
    "os.path.isdir(\"abc\")"
   ]
  },
  {
   "cell_type": "markdown",
   "id": "1afb5117-2f15-43ce-a581-7c30dfc011d8",
   "metadata": {},
   "source": [
    "#### wanna get absolute path?\n",
    "- os.path.abspath(\"filename\")"
   ]
  },
  {
   "cell_type": "code",
   "execution_count": 37,
   "id": "1f17fd6a-97a5-49e3-a220-e85f03ce45df",
   "metadata": {},
   "outputs": [
    {
     "data": {
      "text/plain": [
       "'C:\\\\Learnings\\\\Python\\\\lrn04_FUNCTION_filter_reduce.py'"
      ]
     },
     "execution_count": 37,
     "metadata": {},
     "output_type": "execute_result"
    }
   ],
   "source": [
    "os.path.abspath(\"lrn04_FUNCTION_filter_reduce.py\")"
   ]
  },
  {
   "cell_type": "markdown",
   "id": "241d325a-57e5-4393-9157-41ef2bd7bfc6",
   "metadata": {},
   "source": [
    "#### current directory?\n"
   ]
  },
  {
   "cell_type": "code",
   "execution_count": 52,
   "id": "c887665a-1b4d-4570-bb7f-368592d2e8b1",
   "metadata": {},
   "outputs": [
    {
     "data": {
      "text/plain": [
       "'C:\\\\Learnings\\\\Python'"
      ]
     },
     "execution_count": 52,
     "metadata": {},
     "output_type": "execute_result"
    }
   ],
   "source": [
    "os.getcwd()"
   ]
  },
  {
   "cell_type": "code",
   "execution_count": 53,
   "id": "2f0e444f-9efb-4ac4-85c2-93db57497949",
   "metadata": {},
   "outputs": [
    {
     "data": {
      "text/plain": [
       "'C:\\\\Learnings\\\\Python'"
      ]
     },
     "execution_count": 53,
     "metadata": {},
     "output_type": "execute_result"
    }
   ],
   "source": [
    "os.path.abspath(\".\")"
   ]
  },
  {
   "cell_type": "markdown",
   "id": "dfce96d5-c1b1-4bcd-8571-cb8b10010b8a",
   "metadata": {},
   "source": [
    "#### change directory"
   ]
  },
  {
   "cell_type": "code",
   "execution_count": 2,
   "id": "3f9f592f-f7eb-4e46-8281-9fa8420f1d91",
   "metadata": {},
   "outputs": [],
   "source": [
    "os.mkdir(\"os_handle\")"
   ]
  },
  {
   "cell_type": "code",
   "execution_count": 3,
   "id": "015ce7da-c4a4-4607-b854-28aca8cd969c",
   "metadata": {},
   "outputs": [],
   "source": [
    "os.chdir(\"os_handle\")"
   ]
  },
  {
   "cell_type": "code",
   "execution_count": 4,
   "id": "3b473021-33ef-4171-941f-d53aa0ece87f",
   "metadata": {},
   "outputs": [
    {
     "data": {
      "text/plain": [
       "'C:\\\\Learnings\\\\Python\\\\os_handle'"
      ]
     },
     "execution_count": 4,
     "metadata": {},
     "output_type": "execute_result"
    }
   ],
   "source": [
    "os.getcwd()"
   ]
  },
  {
   "cell_type": "code",
   "execution_count": 5,
   "id": "ed839a6c-200c-4d3a-b58d-17aeca73eed8",
   "metadata": {},
   "outputs": [],
   "source": [
    "os.mkdir(\"random\")"
   ]
  },
  {
   "cell_type": "code",
   "execution_count": 6,
   "id": "cdc7fc06-6c1d-4326-8dce-87a7fbd38d43",
   "metadata": {},
   "outputs": [],
   "source": [
    "os.rmdir(\"random\")"
   ]
  },
  {
   "cell_type": "markdown",
   "id": "6af89a4f-da45-4bf3-a295-7633af0c7796",
   "metadata": {},
   "source": [
    "### if you try to delete the dir that has file contents, \n",
    "- you get an error. as follows.\n"
   ]
  },
  {
   "cell_type": "code",
   "execution_count": 7,
   "id": "e113a8d5-afab-4154-9f5d-9082eed0d531",
   "metadata": {},
   "outputs": [],
   "source": [
    "os.mkdir(\"random\")"
   ]
  },
  {
   "cell_type": "code",
   "execution_count": 8,
   "id": "f6d1e07b-d5cb-4d45-a494-2de232a33ae0",
   "metadata": {},
   "outputs": [],
   "source": [
    "os.mkdir(\"random/morerandom\")"
   ]
  },
  {
   "cell_type": "code",
   "execution_count": 9,
   "id": "9eaf2d00-0f73-48a4-8420-a6b2e128a6c1",
   "metadata": {},
   "outputs": [
    {
     "data": {
      "text/plain": [
       "'C:\\\\Learnings\\\\Python\\\\os_handle'"
      ]
     },
     "execution_count": 9,
     "metadata": {},
     "output_type": "execute_result"
    }
   ],
   "source": [
    "os.getcwd()"
   ]
  },
  {
   "cell_type": "code",
   "execution_count": 10,
   "id": "6f7f7ddc-f744-42cc-9e7c-faf7d0834d19",
   "metadata": {},
   "outputs": [
    {
     "ename": "OSError",
     "evalue": "[WinError 145] 디렉터리가 비어 있지 않습니다: 'random'",
     "output_type": "error",
     "traceback": [
      "\u001b[1;31m---------------------------------------------------------------------------\u001b[0m",
      "\u001b[1;31mOSError\u001b[0m                                   Traceback (most recent call last)",
      "\u001b[1;32mC:\\Users\\ADMINI~1\\AppData\\Local\\Temp/ipykernel_20916/4174275814.py\u001b[0m in \u001b[0;36m<module>\u001b[1;34m\u001b[0m\n\u001b[1;32m----> 1\u001b[1;33m \u001b[0mos\u001b[0m\u001b[1;33m.\u001b[0m\u001b[0mrmdir\u001b[0m\u001b[1;33m(\u001b[0m\u001b[1;34m\"random\"\u001b[0m\u001b[1;33m)\u001b[0m\u001b[1;33m\u001b[0m\u001b[1;33m\u001b[0m\u001b[0m\n\u001b[0m",
      "\u001b[1;31mOSError\u001b[0m: [WinError 145] 디렉터리가 비어 있지 않습니다: 'random'"
     ]
    }
   ],
   "source": [
    "os.rmdir(\"random\")"
   ]
  },
  {
   "cell_type": "markdown",
   "id": "a78cc57f-7251-48d6-a871-c1d14b0e997f",
   "metadata": {},
   "source": [
    "### But then how do we know whether the directory has content or not?"
   ]
  },
  {
   "cell_type": "code",
   "execution_count": 11,
   "id": "6b7145f0-400a-431e-8f6f-4b6dc318b93c",
   "metadata": {},
   "outputs": [
    {
     "data": {
      "text/plain": [
       "['morerandom']"
      ]
     },
     "execution_count": 11,
     "metadata": {},
     "output_type": "execute_result"
    }
   ],
   "source": [
    "os.listdir(\"random\")"
   ]
  },
  {
   "cell_type": "code",
   "execution_count": 14,
   "id": "d6ff4892-d0f4-43ba-8975-320bb3cf393d",
   "metadata": {},
   "outputs": [
    {
     "name": "stdout",
     "output_type": "stream",
     "text": [
      "C:\\Learnings\\Python\\os_handle\\random\\morerandom is a directory\n",
      "C:\\Learnings\\Python\\os_handle\\random\\untitled.md is a file\n",
      "C:\\Learnings\\Python\\os_handle\\random\\untitled.txt is a file\n",
      "C:\\Learnings\\Python\\os_handle\\random\\untitled1.txt is a file\n",
      "C:\\Learnings\\Python\\os_handle\\random\\untitled2.txt is a file\n",
      "C:\\Learnings\\Python\\os_handle\\random\\untitled3.txt is a file\n",
      "C:\\Learnings\\Python\\os_handle\\random\\untitled4.txt is a file\n"
     ]
    }
   ],
   "source": [
    "for name in os.listdir(\"random\"):\n",
    "    fullname = os.path.join(os.path.abspath(\"random\"),name)\n",
    "    if os.path.isdir(fullname):\n",
    "        print(\"{} is a directory\".format(fullname))\n",
    "    else:\n",
    "        print(\"{} is a file\".format(fullname))"
   ]
  },
  {
   "cell_type": "markdown",
   "id": "01668ac3-f0e7-4561-944c-18ea49773631",
   "metadata": {},
   "source": [
    "#### What are the differences between os.path.join and just concatenation?\n",
    "\n",
    "- join is crossflatform function. \n",
    "- meaning that regardless of OS flatforms. "
   ]
  },
  {
   "cell_type": "code",
   "execution_count": 20,
   "id": "801d4ebf-4c79-48ce-8c91-a684684036ee",
   "metadata": {},
   "outputs": [
    {
     "data": {
      "text/plain": [
       "'C:\\\\Learnings\\\\Python'"
      ]
     },
     "execution_count": 20,
     "metadata": {},
     "output_type": "execute_result"
    }
   ],
   "source": [
    "os.chdir(\"Python/\")\n",
    "os.getcwd()"
   ]
  }
 ],
 "metadata": {
  "kernelspec": {
   "display_name": "Python 3 (ipykernel)",
   "language": "python",
   "name": "python3"
  },
  "language_info": {
   "codemirror_mode": {
    "name": "ipython",
    "version": 3
   },
   "file_extension": ".py",
   "mimetype": "text/x-python",
   "name": "python",
   "nbconvert_exporter": "python",
   "pygments_lexer": "ipython3",
   "version": "3.9.4"
  }
 },
 "nbformat": 4,
 "nbformat_minor": 5
}
