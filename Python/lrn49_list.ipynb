{
 "cells": [
  {
   "cell_type": "code",
   "execution_count": 1,
   "id": "6e313f5d-4f6b-462f-a01f-81a84bdf2903",
   "metadata": {},
   "outputs": [],
   "source": [
    "x = [\"Now\",\"we\",\"are\",\"cooking!\"]\n"
   ]
  },
  {
   "cell_type": "code",
   "execution_count": 2,
   "id": "35b7261d-870c-407e-aa42-e92ffe879ae0",
   "metadata": {},
   "outputs": [
    {
     "data": {
      "text/plain": [
       "list"
      ]
     },
     "execution_count": 2,
     "metadata": {},
     "output_type": "execute_result"
    }
   ],
   "source": [
    "type(x)"
   ]
  },
  {
   "cell_type": "code",
   "execution_count": 3,
   "id": "dba0bd49-6e98-42b6-a785-b60a6467b18f",
   "metadata": {},
   "outputs": [
    {
     "name": "stdout",
     "output_type": "stream",
     "text": [
      "['Now', 'we', 'are', 'cooking!']\n"
     ]
    }
   ],
   "source": [
    "print(x)"
   ]
  },
  {
   "cell_type": "code",
   "execution_count": 4,
   "id": "4c59730b-6575-444b-a797-6f68d7c74843",
   "metadata": {},
   "outputs": [
    {
     "data": {
      "text/plain": [
       "4"
      ]
     },
     "execution_count": 4,
     "metadata": {},
     "output_type": "execute_result"
    }
   ],
   "source": [
    "len(x)"
   ]
  },
  {
   "cell_type": "code",
   "execution_count": 5,
   "id": "7f8ac61d-69a4-43fe-a67c-62bd6b2a5857",
   "metadata": {},
   "outputs": [
    {
     "data": {
      "text/plain": [
       "True"
      ]
     },
     "execution_count": 5,
     "metadata": {},
     "output_type": "execute_result"
    }
   ],
   "source": [
    "\"are\" in x\n"
   ]
  },
  {
   "cell_type": "code",
   "execution_count": 6,
   "id": "a569b10b-6d64-414f-9091-8bb595387112",
   "metadata": {},
   "outputs": [
    {
     "data": {
      "text/plain": [
       "False"
      ]
     },
     "execution_count": 6,
     "metadata": {},
     "output_type": "execute_result"
    }
   ],
   "source": [
    "\"Today\" in x"
   ]
  },
  {
   "cell_type": "markdown",
   "id": "ff65fef7-464e-4d22-89df-177fb734ea6d",
   "metadata": {},
   "source": [
    "###  If we use an index higher than the current length, the element just gets added to the end. "
   ]
  },
  {
   "cell_type": "code",
   "execution_count": 7,
   "id": "f1d475e8-aec2-4701-953f-421791de9e1c",
   "metadata": {},
   "outputs": [],
   "source": [
    "x.insert(6,200)"
   ]
  },
  {
   "cell_type": "code",
   "execution_count": 8,
   "id": "ca382865-9090-4325-a2ed-68dda12ba10e",
   "metadata": {},
   "outputs": [
    {
     "data": {
      "text/plain": [
       "['Now', 'we', 'are', 'cooking!', 200]"
      ]
     },
     "execution_count": 8,
     "metadata": {},
     "output_type": "execute_result"
    }
   ],
   "source": [
    "x"
   ]
  },
  {
   "cell_type": "code",
   "execution_count": 9,
   "id": "f6d95901-e9bc-4871-aced-74f5f2f76b63",
   "metadata": {},
   "outputs": [
    {
     "data": {
      "text/plain": [
       "'are'"
      ]
     },
     "execution_count": 9,
     "metadata": {},
     "output_type": "execute_result"
    }
   ],
   "source": [
    "x.pop(2)"
   ]
  },
  {
   "cell_type": "markdown",
   "id": "31df5b9a-e47e-4037-aedf-062a2b7c8897",
   "metadata": {},
   "source": [
    "### Remove stuff\n"
   ]
  },
  {
   "cell_type": "code",
   "execution_count": 10,
   "id": "177c487d-63a0-465e-82ac-bbb256901e01",
   "metadata": {},
   "outputs": [],
   "source": [
    "x.remove(200)"
   ]
  },
  {
   "cell_type": "code",
   "execution_count": 11,
   "id": "7bc030f8-aae7-4147-a4df-460e72871adb",
   "metadata": {},
   "outputs": [
    {
     "data": {
      "text/plain": [
       "['Now', 'we', 'cooking!']"
      ]
     },
     "execution_count": 11,
     "metadata": {},
     "output_type": "execute_result"
    }
   ],
   "source": [
    "x\n"
   ]
  },
  {
   "cell_type": "markdown",
   "id": "67012353-a468-47a0-84c8-67a6f29c2f70",
   "metadata": {},
   "source": [
    "### List comprehension "
   ]
  },
  {
   "cell_type": "code",
   "execution_count": 12,
   "id": "39e13aed-1c79-4226-9908-89b63340e761",
   "metadata": {},
   "outputs": [
    {
     "data": {
      "text/plain": [
       "[7, 14, 21, 28, 35, 42, 49, 56, 63, 70]"
      ]
     },
     "execution_count": 12,
     "metadata": {},
     "output_type": "execute_result"
    }
   ],
   "source": [
    "multiples = [ x*7 for x in range(1,11)]\n",
    "multiples\n"
   ]
  },
  {
   "cell_type": "code",
   "execution_count": 14,
   "id": "3e2eb16f-676b-4328-83e2-f76060a18122",
   "metadata": {},
   "outputs": [
    {
     "data": {
      "text/plain": [
       "[6, 4, 2, 4, 1]"
      ]
     },
     "execution_count": 14,
     "metadata": {},
     "output_type": "execute_result"
    }
   ],
   "source": [
    "languages = [\"Python\",\"Ruby\",\"Go\",\"Java\",\"C\"]\n",
    "\n",
    "lengths = [len(language) for language in languages]\n",
    "lengths"
   ]
  },
  {
   "cell_type": "markdown",
   "id": "ba5da341-df14-465f-aeaa-6d8068badc25",
   "metadata": {},
   "source": [
    "#### List comprehension with if statement"
   ]
  },
  {
   "cell_type": "code",
   "execution_count": 20,
   "id": "6980801a-4ca1-479e-9c27-452f94ca9b23",
   "metadata": {},
   "outputs": [
    {
     "data": {
      "text/plain": [
       "[0,\n",
       " 3,\n",
       " 6,\n",
       " 9,\n",
       " 12,\n",
       " 15,\n",
       " 18,\n",
       " 21,\n",
       " 24,\n",
       " 27,\n",
       " 30,\n",
       " 33,\n",
       " 36,\n",
       " 39,\n",
       " 42,\n",
       " 45,\n",
       " 48,\n",
       " 51,\n",
       " 54,\n",
       " 57,\n",
       " 60,\n",
       " 63,\n",
       " 66,\n",
       " 69,\n",
       " 72,\n",
       " 75,\n",
       " 78,\n",
       " 81,\n",
       " 84,\n",
       " 87,\n",
       " 90,\n",
       " 93,\n",
       " 96,\n",
       " 99]"
      ]
     },
     "execution_count": 20,
     "metadata": {},
     "output_type": "execute_result"
    }
   ],
   "source": [
    "z = [x for x in range(0,101) if x%3 ==0 ]\n",
    "z"
   ]
  },
  {
   "cell_type": "code",
   "execution_count": 22,
   "id": "8a5e3ee0-1097-4cb3-af1d-98bc6d61d2f0",
   "metadata": {},
   "outputs": [
    {
     "data": {
      "text/plain": [
       "0"
      ]
     },
     "execution_count": 22,
     "metadata": {},
     "output_type": "execute_result"
    }
   ],
   "source": [
    "dict ={}\n",
    "dict.get(\"a\",0)"
   ]
  },
  {
   "cell_type": "code",
   "execution_count": 24,
   "id": "60656076-58c8-4c7d-a4bd-40e5328dc6e3",
   "metadata": {},
   "outputs": [
    {
     "data": {
      "text/plain": [
       "{1: 22, 2: 44, 5: 33}"
      ]
     },
     "execution_count": 24,
     "metadata": {},
     "output_type": "execute_result"
    }
   ],
   "source": [
    "dic1 =  {1:22,2:33}\n",
    "\n",
    "dic1.update({2:44,5:33})\n",
    "dic1"
   ]
  },
  {
   "cell_type": "code",
   "execution_count": 25,
   "id": "2b16c1c4-451a-425d-941a-600a595433a6",
   "metadata": {},
   "outputs": [
    {
     "data": {
      "text/plain": [
       "<function str.isalpha()>"
      ]
     },
     "execution_count": 25,
     "metadata": {},
     "output_type": "execute_result"
    }
   ],
   "source": [
    "\"ds\".isalpha"
   ]
  }
 ],
 "metadata": {
  "kernelspec": {
   "display_name": "Python 3 (ipykernel)",
   "language": "python",
   "name": "python3"
  },
  "language_info": {
   "codemirror_mode": {
    "name": "ipython",
    "version": 3
   },
   "file_extension": ".py",
   "mimetype": "text/x-python",
   "name": "python",
   "nbconvert_exporter": "python",
   "pygments_lexer": "ipython3",
   "version": "3.9.4"
  }
 },
 "nbformat": 4,
 "nbformat_minor": 5
}
