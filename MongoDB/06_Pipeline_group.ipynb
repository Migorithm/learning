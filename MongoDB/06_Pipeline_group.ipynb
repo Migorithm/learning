{
 "cells": [
  {
   "cell_type": "code",
   "execution_count": 22,
   "id": "82abc427-68cf-4cd5-acc6-f866752ed13c",
   "metadata": {},
   "outputs": [
    {
     "name": "stdout",
     "output_type": "stream",
     "text": [
      "posts\n",
      "sudo\n",
      "fs.files\n",
      "chat\n",
      "sales\n",
      "login\n",
      "funds\n",
      "users\n",
      "limited\n",
      "fs.chunks\n",
      "nei\n",
      "airbnb\n",
      "res\n"
     ]
    }
   ],
   "source": [
    "import pymongo\n",
    "from pprint import pprint\n",
    "import pandas as pd\n",
    "import numpy as np\n",
    "from IPython.display import Image\n",
    "\n",
    "connection =pymongo.MongoClient(\"localhost\",27017)\n",
    "db = connection.python\n",
    "\n",
    "for i in db.list_collection_names():\n",
    "    print(i)"
   ]
  },
  {
   "cell_type": "markdown",
   "id": "d6a5cb79-0ad0-4fe9-822e-68ba86fe55cd",
   "metadata": {},
   "source": [
    "---\n",
    "\n",
    "### Introduction to \\$group"
   ]
  },
  {
   "cell_type": "markdown",
   "id": "65c5d4db-0780-404d-a6be-16a0e499f840",
   "metadata": {},
   "source": [
    "- Accumulation has long been a job for \\$group\n",
    "- It serves similar function as SQL GROUP BY\n"
   ]
  },
  {
   "cell_type": "code",
   "execution_count": 19,
   "id": "269a76a5-fdec-4882-a272-0f8d20899446",
   "metadata": {},
   "outputs": [
    {
     "name": "stderr",
     "output_type": "stream",
     "text": [
      "2021-08-16T19:02:58.781+0900\tconnected to: mongodb://localhost/\n",
      "2021-08-16T19:03:00.385+0900\t5555 document(s) imported successfully. 0 document(s) failed to import.\n"
     ]
    }
   ],
   "source": [
    "!mongoimport -d python -c airbnb listingsAndReviews.json"
   ]
  },
  {
   "cell_type": "code",
   "execution_count": 53,
   "id": "12c42649-3f4a-4360-975f-2eefa7376412",
   "metadata": {},
   "outputs": [
    {
     "name": "stdout",
     "output_type": "stream",
     "text": [
      "{'_id': '10021707',\n",
      " 'access': '',\n",
      " 'accommodates': 1,\n",
      " 'address': {'country': 'United States',\n",
      "             'country_code': 'US',\n",
      "             'government_area': 'Bushwick',\n",
      "             'location': {'coordinates': [-73.93615, 40.69791],\n",
      "                          'is_location_exact': True,\n",
      "                          'type': 'Point'},\n",
      "             'market': 'New York',\n",
      "             'street': 'Brooklyn, NY, United States',\n",
      "             'suburb': 'Brooklyn'},\n",
      " 'amenities': ['Internet',\n",
      "               'Wifi',\n",
      "               'Air conditioning',\n",
      "               'Kitchen',\n",
      "               'Buzzer/wireless intercom',\n",
      "               'Heating',\n",
      "               'Smoke detector',\n",
      "               'Carbon monoxide detector',\n",
      "               'Essentials',\n",
      "               'Lock on bedroom door'],\n",
      " 'availability': {'availability_30': 0,\n",
      "                  'availability_365': 0,\n",
      "                  'availability_60': 0,\n",
      "                  'availability_90': 0},\n",
      " 'bathrooms': Decimal128('1.5'),\n",
      " 'bed_type': 'Real Bed',\n",
      " 'bedrooms': 1,\n",
      " 'beds': 1,\n",
      " 'calendar_last_scraped': datetime.datetime(2019, 3, 6, 5, 0),\n",
      " 'cancellation_policy': 'flexible',\n",
      " 'description': 'Here exists a very cozy room for rent in a shared 4-bedroom '\n",
      "                'apartment. It is located one block off of the JMZ at Myrtle '\n",
      "                'Broadway.  The neighborhood is diverse and appeals to a '\n",
      "                'variety of people.',\n",
      " 'extra_people': Decimal128('0.00'),\n",
      " 'first_review': datetime.datetime(2016, 1, 31, 5, 0),\n",
      " 'guests_included': Decimal128('1'),\n",
      " 'host': {'host_about': '',\n",
      "          'host_has_profile_pic': True,\n",
      "          'host_id': '11275734',\n",
      "          'host_identity_verified': True,\n",
      "          'host_is_superhost': False,\n",
      "          'host_listings_count': 1,\n",
      "          'host_location': 'New York, New York, United States',\n",
      "          'host_name': 'Josh',\n",
      "          'host_neighbourhood': 'Bushwick',\n",
      "          'host_picture_url': 'https://a0.muscache.com/im/users/11275734/profile_pic/1405792127/original.jpg?aki_policy=profile_x_medium',\n",
      "          'host_thumbnail_url': 'https://a0.muscache.com/im/users/11275734/profile_pic/1405792127/original.jpg?aki_policy=profile_small',\n",
      "          'host_total_listings_count': 1,\n",
      "          'host_url': 'https://www.airbnb.com/users/show/11275734',\n",
      "          'host_verifications': ['email', 'phone', 'reviews', 'kba']},\n",
      " 'house_rules': '',\n",
      " 'images': {'medium_url': '',\n",
      "            'picture_url': 'https://a0.muscache.com/im/pictures/72844c8c-fec2-440e-a752-bba9b268c361.jpg?aki_policy=large',\n",
      "            'thumbnail_url': '',\n",
      "            'xl_picture_url': ''},\n",
      " 'interaction': '',\n",
      " 'last_review': datetime.datetime(2016, 1, 31, 5, 0),\n",
      " 'last_scraped': datetime.datetime(2019, 3, 6, 5, 0),\n",
      " 'listing_url': 'https://www.airbnb.com/rooms/10021707',\n",
      " 'maximum_nights': '1125',\n",
      " 'minimum_nights': '14',\n",
      " 'name': 'Private Room in Bushwick',\n",
      " 'neighborhood_overview': '',\n",
      " 'notes': '',\n",
      " 'number_of_reviews': 1,\n",
      " 'price': Decimal128('40.00'),\n",
      " 'property_type': 'Apartment',\n",
      " 'review_scores': {'review_scores_accuracy': 10,\n",
      "                   'review_scores_checkin': 10,\n",
      "                   'review_scores_cleanliness': 10,\n",
      "                   'review_scores_communication': 10,\n",
      "                   'review_scores_location': 8,\n",
      "                   'review_scores_rating': 100,\n",
      "                   'review_scores_value': 8},\n",
      " 'reviews': [{'_id': '61050713',\n",
      "              'comments': 'Josh was out of town during my 1 month stay. His '\n",
      "                          'roommates greeted and helped get me settled. They '\n",
      "                          \"were great hosts and all around cool people. I'm a \"\n",
      "                          'Brooklynite, but have never lived in Bushwick.\\r\\n'\n",
      "                          \"If you're looking for an hip, authentic, and \"\n",
      "                          'convenient Brooklyn experience, this spot is for '\n",
      "                          'you.  You can literally see the Subway platform '\n",
      "                          \"from Josh's window. Also a couple steps away from \"\n",
      "                          'anything you could possibly need... restaurants, '\n",
      "                          'juice bar, organic grocery, etc. ',\n",
      "              'date': datetime.datetime(2016, 1, 31, 5, 0),\n",
      "              'listing_id': '10021707',\n",
      "              'reviewer_id': '52006105',\n",
      "              'reviewer_name': 'Antoine'}],\n",
      " 'room_type': 'Private room',\n",
      " 'space': '',\n",
      " 'summary': 'Here exists a very cozy room for rent in a shared 4-bedroom '\n",
      "            'apartment. It is located one block off of the JMZ at Myrtle '\n",
      "            'Broadway.  The neighborhood is diverse and appeals to a variety '\n",
      "            'of people.',\n",
      " 'transit': ''}\n"
     ]
    }
   ],
   "source": [
    "for i in db.airbnb.find().limit(1):\n",
    "    pprint(i)"
   ]
  },
  {
   "cell_type": "code",
   "execution_count": 60,
   "id": "46ad2c44-9cbb-4629-bb2f-41a8027396db",
   "metadata": {},
   "outputs": [
    {
     "name": "stdout",
     "output_type": "stream",
     "text": [
      "{'Price': Decimal128('11190.00'), '_id': 'Brazil'}\n",
      "{'Price': Decimal128('1746.00'), '_id': 'Canada'}\n",
      "{'Price': Decimal128('11681.00'), '_id': 'Hong Kong'}\n",
      "{'Price': Decimal128('3000.00'), '_id': 'Spain'}\n",
      "{'Price': Decimal128('48842.00'), '_id': 'Turkey'}\n",
      "{'Price': Decimal128('500.00'), '_id': 'Portugal'}\n",
      "{'Price': Decimal128('3250.00'), '_id': 'United States'}\n",
      "{'Price': Decimal128('699.00'), '_id': 'China'}\n",
      "{'Price': Decimal128('2356.00'), '_id': 'Australia'}\n"
     ]
    }
   ],
   "source": [
    "#각 국가별 최고로 비싼 에어비엔비 숙소를 찾아보자. \n",
    "\n",
    "for i in db.airbnb.aggregate([{\"$group\":{\"_id\":\"$address.country\",\"Price\":{\"$max\":\"$price\"}}},{\"$limit\":10}]):\n",
    "    pprint(i)"
   ]
  },
  {
   "cell_type": "code",
   "execution_count": 65,
   "id": "8ab395d7-8834-4cc9-8608-d574987cda00",
   "metadata": {},
   "outputs": [
    {
     "name": "stdout",
     "output_type": "stream",
     "text": [
      "{'Price': Decimal128('773.7866666666666666666666666666667'), '_id': 'Hong Kong'}\n",
      "{'Price': Decimal128('525.3465346534653465346534653465347'), '_id': 'Brazil'}\n",
      "{'Price': Decimal128('405.3684210526315789473684210526316'), '_id': 'China'}\n",
      "{'Price': Decimal128('368.1467473524962178517397881996974'), '_id': 'Turkey'}\n",
      "{'Price': Decimal128('197.8065573770491803278688524590164'), '_id': 'Australia'}\n",
      "{'Price': Decimal128('185.7692307692307692307692307692308'),\n",
      " '_id': 'United States'}\n",
      "{'Price': Decimal128('100.8262243285939968404423380726698'), '_id': 'Spain'}\n",
      "{'Price': Decimal128('100.1171032357473035439137134052388'), '_id': 'Canada'}\n",
      "{'Price': Decimal128('69.18198198198198198198198198198198'), '_id': 'Portugal'}\n"
     ]
    }
   ],
   "source": [
    "#각 국가별 에어비엔비 숙소 평균가를 찾아보자.\n",
    "for i in db.airbnb.aggregate([{\"$group\":{\"_id\":\"$address.country\",\"Price\":{\"$avg\":\"$price\"}}},{\"$sort\":{\"Price\":-1}}]):\n",
    "    pprint(i)"
   ]
  },
  {
   "cell_type": "code",
   "execution_count": 73,
   "id": "1bebe73e-1197-4644-921b-3a0c60069ead",
   "metadata": {},
   "outputs": [
    {
     "name": "stdout",
     "output_type": "stream",
     "text": [
      "{'_id': 'Brooklyn Heights', 'avg_amenities': 13.0}\n",
      "{'_id': 'Claremont Village', 'avg_amenities': 29.5}\n",
      "{'_id': 'Ewa', 'avg_amenities': 27.4}\n",
      "{'_id': 'Edgemere', 'avg_amenities': 20.0}\n",
      "{'_id': 'Washington Heights', 'avg_amenities': 21.9}\n",
      "{'_id': 'Molokai', 'avg_amenities': 16.0}\n",
      "{'_id': 'Little Italy', 'avg_amenities': 23.5}\n",
      "{'_id': 'Rego Park', 'avg_amenities': 28.0}\n",
      "{'_id': 'North Kohala', 'avg_amenities': 21.8}\n",
      "{'_id': 'Koolauloa', 'avg_amenities': 26.3}\n"
     ]
    }
   ],
   "source": [
    "#국가를 하나 정해서,\n",
    "#지역을 중심으로 그룹화 한후\n",
    "#평균 어메니티의 갯수를 구하자.\n",
    "\n",
    "for i in db.airbnb.aggregate([{\"$match\":{\"address.country_code\":\"US\"}},\n",
    "                             {\"$group\":{\"_id\":\"$address.government_area\",\"avg_amenities\":{\"$avg\":{\"$size\":\"$amenities\"}}}},{\"$limit\":10}]):\n",
    "    pprint(i)"
   ]
  },
  {
   "cell_type": "code",
   "execution_count": 77,
   "id": "c121dc4b-cac8-4955-8762-254123dd3270",
   "metadata": {},
   "outputs": [
    {
     "name": "stdout",
     "output_type": "stream",
     "text": [
      "{'Count': 633, 'Interaction_level': 9.55813953488372, '_id': 'ES'}\n",
      "{'Count': 555, 'Interaction_level': 9.705627705627705, '_id': 'PT'}\n",
      "{'Count': 19, 'Interaction_level': 9.384615384615385, '_id': 'CN'}\n",
      "{'Count': 661, 'Interaction_level': 9.59546925566343, '_id': 'TR'}\n",
      "{'Count': 606, 'Interaction_level': 9.738372093023257, '_id': 'BR'}\n",
      "{'Count': 600, 'Interaction_level': 9.594036697247706, '_id': 'HK'}\n",
      "{'Count': 610, 'Interaction_level': 9.738683127572017, '_id': 'AU'}\n",
      "{'Count': 649, 'Interaction_level': 9.65922920892495, '_id': 'CA'}\n",
      "{'Count': 1222, 'Interaction_level': 9.782159624413145, '_id': 'US'}\n"
     ]
    }
   ],
   "source": [
    "#국가별로 호스트와 게스트의 인터액션이 얼마나 활발한지를 알아보자. \n",
    "\n",
    "for i in db.airbnb.aggregate([{\"$group\":{\"_id\":'$address.country_code',\n",
    "                                         \"Interaction_level\":{\"$avg\":\"$review_scores.review_scores_communication\"},\n",
    "                                         \"Count\" :{\"$sum\":{\"$literal\":1}}}}]):\n",
    "    pprint(i)"
   ]
  },
  {
   "cell_type": "markdown",
   "id": "b422b699-1ed2-4a04-958d-043bf4ac5e28",
   "metadata": {},
   "source": [
    "---\n",
    "\n",
    "### Get the result of pipeline and put them into other collection\n",
    "\n",
    "- \\\\$out\n",
    "    - constraints:\n",
    "        - can write things only within the same DB\n",
    "        - can't write things on sharded collection\n",
    "- \\\\$merge\n",
    "    - less constraints"
   ]
  },
  {
   "cell_type": "code",
   "execution_count": 78,
   "id": "fe24400f-03bc-472a-8622-22ebfdb529a5",
   "metadata": {},
   "outputs": [
    {
     "data": {
      "text/plain": [
       "<pymongo.command_cursor.CommandCursor at 0x2060af69b80>"
      ]
     },
     "execution_count": 78,
     "metadata": {},
     "output_type": "execute_result"
    }
   ],
   "source": [
    "db.airbnb.aggregate([{\"$group\":{\"_id\":'$address.country_code',\n",
    "                                         \"Interaction_level\":{\"$avg\":\"$review_scores.review_scores_communication\"},\n",
    "                                         \"Count\" :{\"$sum\":{\"$literal\":1}}}},{\"$out\":\"aircount\"}])\n"
   ]
  },
  {
   "cell_type": "code",
   "execution_count": 87,
   "id": "85c171cd-f6e1-4522-a453-8127594c8590",
   "metadata": {},
   "outputs": [
    {
     "data": {
      "text/plain": [
       "<pymongo.command_cursor.CommandCursor at 0x2060add5ac0>"
      ]
     },
     "execution_count": 87,
     "metadata": {},
     "output_type": "execute_result"
    }
   ],
   "source": [
    "db.airbnb.aggregate([{\"$match\":{\"address.country_code\":\"US\"}},\n",
    "                             {\"$group\":{\"_id\":\"$address.government_area\",\"avg_amenities\":{\"$avg\":{\"$size\":\"$amenities\"}}}},{\"$limit\":10},\n",
    "                             {\"$merge\":{\"into\":{\"db\":\"randomDB\",\"coll\":\"amensize\"}}}]) #default가 해당 디비에 저장되는 방식.\n"
   ]
  },
  {
   "cell_type": "code",
   "execution_count": 88,
   "id": "e2e12bd4-f9fe-490d-b992-cab881a4e189",
   "metadata": {},
   "outputs": [
    {
     "name": "stdout",
     "output_type": "stream",
     "text": [
      "{'_id': 'Claremont Village', 'avg_amenities': 29.5}\n",
      "{'_id': 'Washington Heights', 'avg_amenities': 21.9}\n",
      "{'_id': 'Ewa', 'avg_amenities': 27.4}\n",
      "{'_id': 'Edgemere', 'avg_amenities': 20.0}\n",
      "{'_id': 'Rego Park', 'avg_amenities': 28.0}\n",
      "{'_id': 'North Kohala', 'avg_amenities': 21.8}\n",
      "{'_id': 'Koolauloa', 'avg_amenities': 26.3}\n",
      "{'_id': 'Molokai', 'avg_amenities': 16.0}\n",
      "{'_id': 'Little Italy', 'avg_amenities': 23.5}\n",
      "{'_id': 'East Harlem', 'avg_amenities': 19.928571428571427}\n"
     ]
    }
   ],
   "source": [
    "for i in connection.randomDB.amensize.find():\n",
    "    print(i)"
   ]
  }
 ],
 "metadata": {
  "kernelspec": {
   "display_name": "Python 3 (ipykernel)",
   "language": "python",
   "name": "python3"
  },
  "language_info": {
   "codemirror_mode": {
    "name": "ipython",
    "version": 3
   },
   "file_extension": ".py",
   "mimetype": "text/x-python",
   "name": "python",
   "nbconvert_exporter": "python",
   "pygments_lexer": "ipython3",
   "version": "3.9.4"
  }
 },
 "nbformat": 4,
 "nbformat_minor": 5
}
