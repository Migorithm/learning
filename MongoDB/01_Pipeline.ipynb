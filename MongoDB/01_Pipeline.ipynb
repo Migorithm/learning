{
 "cells": [
  {
   "cell_type": "code",
   "execution_count": 30,
   "id": "18308965-6f4f-4387-9943-155c770ad9cd",
   "metadata": {},
   "outputs": [],
   "source": [
    "import pymongo\n",
    "from IPython.display import Image\n",
    "from pprint import pprint"
   ]
  },
  {
   "cell_type": "code",
   "execution_count": 32,
   "id": "498c213f-efee-4cfe-810c-29248ecc0f7b",
   "metadata": {},
   "outputs": [
    {
     "data": {
      "text/html": [
       "<img src=\"https://appsyoda.com/blogimages/MongoDB-Pipeline.png\"/>"
      ],
      "text/plain": [
       "<IPython.core.display.Image object>"
      ]
     },
     "execution_count": 32,
     "metadata": {},
     "output_type": "execute_result"
    }
   ],
   "source": [
    "Image(url= \"https://appsyoda.com/blogimages/MongoDB-Pipeline.png\")"
   ]
  },
  {
   "cell_type": "markdown",
   "id": "2b78f413-933d-43dd-b814-3ba521cabb55",
   "metadata": {},
   "source": [
    "### Configuration"
   ]
  },
  {
   "cell_type": "code",
   "execution_count": 33,
   "id": "abfa658c-142f-40bc-a346-07f8e0914190",
   "metadata": {},
   "outputs": [],
   "source": [
    "connection =pymongo.MongoClient(\"localhost\",27017)\n",
    "db = connection.python"
   ]
  },
  {
   "cell_type": "markdown",
   "id": "3e7cd4c3-5f68-4370-8da1-5194c7e5d57b",
   "metadata": {},
   "source": [
    "### match, projction, srot, skip, limit"
   ]
  },
  {
   "cell_type": "code",
   "execution_count": 34,
   "id": "d78c23cf-dbcb-44f7-8621-50fd762ece1c",
   "metadata": {},
   "outputs": [
    {
     "name": "stdout",
     "output_type": "stream",
     "text": [
      "{'_id': ObjectId('55cba2476c522cafdb053ae0'), 'location': {'coordinates': [-73.8601152, 40.7311739], 'type': 'Point'}, 'name': 'Tov Kosher Kitchen'}\n",
      "{'_id': ObjectId('55cba2476c522cafdb053add'), 'location': {'coordinates': [-73.856077, 40.848447], 'type': 'Point'}, 'name': 'Morris Park Bake Shop'}\n",
      "{'_id': ObjectId('55cba2476c522cafdb053ae1'), 'location': {'coordinates': [-73.8803827, 40.7643124], 'type': 'Point'}, 'name': 'Brunos On The Boulevard'}\n",
      "{'_id': ObjectId('55cba2476c522cafdb053ade'), 'location': {'coordinates': [-73.961704, 40.662942], 'type': 'Point'}, 'name': \"Wendy'S\"}\n"
     ]
    }
   ],
   "source": [
    "for i in db.res.find().limit(4):\n",
    "    print(i)\n",
    "    "
   ]
  },
  {
   "cell_type": "code",
   "execution_count": 35,
   "id": "069d7ba2-d7c9-4dbf-884a-4bb7eeff66e4",
   "metadata": {},
   "outputs": [
    {
     "name": "stdout",
     "output_type": "stream",
     "text": [
      "{'_id': ObjectId('55cba2476c522cafdb053ae0'), 'location': {'coordinates': [-73.8601152, 40.7311739], 'type': 'Point'}, 'name': 'Tov Kosher Kitchen'}\n",
      "{'_id': ObjectId('55cba2476c522cafdb053add'), 'location': {'coordinates': [-73.856077, 40.848447], 'type': 'Point'}, 'name': 'Morris Park Bake Shop'}\n",
      "{'_id': ObjectId('55cba2476c522cafdb053ae1'), 'location': {'coordinates': [-73.8803827, 40.7643124], 'type': 'Point'}, 'name': 'Brunos On The Boulevard'}\n"
     ]
    }
   ],
   "source": [
    "#to filter in things, you can use $match\n",
    "#to limit the number of return, you put limit.\n",
    "for i in db.res.aggregate([{\"$match\":{\"location.type\":\"Point\"}},{\"$limit\":3}]):\n",
    "    print(i)"
   ]
  },
  {
   "cell_type": "markdown",
   "id": "7ca5b97d-f0f4-4083-9c9a-ab46f41171a7",
   "metadata": {},
   "source": [
    "#### well, you may find it pretty much the same as find function. \n",
    "<br>\n",
    "However, as shown in the picture above, it differs from them as it can contain more then one or two commands. "
   ]
  },
  {
   "cell_type": "code",
   "execution_count": 36,
   "id": "4709c2c2-b5d9-4fad-8ec5-2985f5dc3cd5",
   "metadata": {},
   "outputs": [
    {
     "name": "stdout",
     "output_type": "stream",
     "text": [
      "posts\n",
      "sudo\n",
      "fs.files\n",
      "chat\n",
      "sales\n",
      "login\n",
      "users\n",
      "limited\n",
      "fs.chunks\n",
      "nei\n",
      "res\n"
     ]
    }
   ],
   "source": [
    "for i in db.list_collection_names():\n",
    "    print(i)"
   ]
  },
  {
   "cell_type": "markdown",
   "id": "d090e9e2",
   "metadata": {},
   "source": [
    "### Inserting new rows"
   ]
  },
  {
   "cell_type": "code",
   "execution_count": null,
   "id": "8ed60876-4ab6-462d-8bb7-f8fd8403c043",
   "metadata": {
    "scrolled": true
   },
   "outputs": [],
   "source": [
    "import csv , json,re\n",
    "\n",
    "file = open(\"sales.json\",'r',encoding='utf-8')\n",
    "reader = csv.reader(file, delimiter='\\t', quotechar='|')\n",
    "b = []\n",
    "for i in reader:\n",
    "    a = i.pop()\n",
    "    \n",
    "    a = a +\"\"\n",
    "    b.append(a)\n",
    "    \n",
    "for i in b:\n",
    "    db.sales.insert_one(json.loads(i))\n",
    "\n"
   ]
  },
  {
   "cell_type": "code",
   "execution_count": 37,
   "id": "4e979313-2636-4041-b6bb-56fd3f1b6a5f",
   "metadata": {},
   "outputs": [
    {
     "name": "stdout",
     "output_type": "stream",
     "text": [
      "{'_id': {'id': '5bd761dcae323e45a93ccfe8'},\n",
      " 'couponUsed': True,\n",
      " 'customer': {'age': {'$numberInt': '42'},\n",
      "              'email': 'cauho@witwuta.sv',\n",
      "              'gender': 'M',\n",
      "              'satisfaction': {'$numberInt': '4'}},\n",
      " 'items': [{'name': 'printer paper',\n",
      "            'price': {'$numberDecimal': '40.01'},\n",
      "            'quantity': {'$numberInt': '2'},\n",
      "            'tags': ['office', 'stationary']},\n",
      "           {'name': 'notepad',\n",
      "            'price': {'$numberDecimal': '35.29'},\n",
      "            'quantity': {'$numberInt': '2'},\n",
      "            'tags': ['office', 'writing', 'school']},\n",
      "           {'name': 'pens',\n",
      "            'price': {'$numberDecimal': '56.12'},\n",
      "            'quantity': {'$numberInt': '5'},\n",
      "            'tags': ['writing', 'office', 'school', 'stationary']},\n",
      "           {'name': 'backpack',\n",
      "            'price': {'$numberDecimal': '77.71'},\n",
      "            'quantity': {'$numberInt': '2'},\n",
      "            'tags': ['school', 'travel', 'kids']},\n",
      "           {'name': 'notepad',\n",
      "            'price': {'$numberDecimal': '18.47'},\n",
      "            'quantity': {'$numberInt': '2'},\n",
      "            'tags': ['office', 'writing', 'school']},\n",
      "           {'name': 'envelopes',\n",
      "            'price': {'$numberDecimal': '19.95'},\n",
      "            'quantity': {'$numberInt': '8'},\n",
      "            'tags': ['stationary', 'office', 'general']},\n",
      "           {'name': 'envelopes',\n",
      "            'price': {'$numberDecimal': '8.08'},\n",
      "            'quantity': {'$numberInt': '3'},\n",
      "            'tags': ['stationary', 'office', 'general']},\n",
      "           {'name': 'binder',\n",
      "            'price': {'$numberDecimal': '14.16'},\n",
      "            'quantity': {'$numberInt': '3'},\n",
      "            'tags': ['school', 'general', 'organization']}],\n",
      " 'purchaseMethod': 'Online',\n",
      " 'saleDate': {'$date': {'$numberLong': '1427144809506'}},\n",
      " 'storeLocation': 'Denver'}\n"
     ]
    }
   ],
   "source": [
    "for i in db.sales.find().limit(1):\n",
    "    pprint(i)"
   ]
  },
  {
   "cell_type": "code",
   "execution_count": 39,
   "id": "288d2427-3a8f-4e76-a196-b7b64c0a240b",
   "metadata": {},
   "outputs": [],
   "source": [
    "#For the sake of convenience, \n",
    "col = db.sales"
   ]
  },
  {
   "cell_type": "code",
   "execution_count": 28,
   "id": "08fcf8f9",
   "metadata": {
    "scrolled": true
   },
   "outputs": [
    {
     "name": "stdout",
     "output_type": "stream",
     "text": [
      "{'_id': {'id': '5bd761deae323e45a93ce1dd'},\n",
      " 'couponUsed': True,\n",
      " 'customer': {'age': {'$numberInt': '65'},\n",
      "              'email': 'wohpu@oseraum.hr',\n",
      "              'gender': 'M',\n",
      "              'satisfaction': {'$numberInt': '4'}},\n",
      " 'items': [{'name': 'binder',\n",
      "            'price': {'$numberDecimal': '18.77'},\n",
      "            'quantity': {'$numberInt': '9'},\n",
      "            'tags': ['school', 'general', 'organization']},\n",
      "           {'name': 'laptop',\n",
      "            'price': {'$numberDecimal': '429.69'},\n",
      "            'quantity': {'$numberInt': '1'},\n",
      "            'tags': ['electronics', 'school', 'office']},\n",
      "           {'name': 'binder',\n",
      "            'price': {'$numberDecimal': '21.06'},\n",
      "            'quantity': {'$numberInt': '3'},\n",
      "            'tags': ['school', 'general', 'organization']},\n",
      "           {'name': 'pens',\n",
      "            'price': {'$numberDecimal': '17.62'},\n",
      "            'quantity': {'$numberInt': '2'},\n",
      "            'tags': ['writing', 'office', 'school', 'stationary']},\n",
      "           {'name': 'notepad',\n",
      "            'price': {'$numberDecimal': '34.15'},\n",
      "            'quantity': {'$numberInt': '1'},\n",
      "            'tags': ['office', 'writing', 'school']},\n",
      "           {'name': 'backpack',\n",
      "            'price': {'$numberDecimal': '115.06'},\n",
      "            'quantity': {'$numberInt': '3'},\n",
      "            'tags': ['school', 'travel', 'kids']},\n",
      "           {'name': 'printer paper',\n",
      "            'price': {'$numberDecimal': '49.7'},\n",
      "            'quantity': {'$numberInt': '2'},\n",
      "            'tags': ['office', 'stationary']},\n",
      "           {'name': 'envelopes',\n",
      "            'price': {'$numberDecimal': '20.53'},\n",
      "            'quantity': {'$numberInt': '4'},\n",
      "            'tags': ['stationary', 'office', 'general']}],\n",
      " 'purchaseMethod': 'Phone',\n",
      " 'saleDate': {'$date': {'$numberLong': '1514574204064'}},\n",
      " 'storeLocation': 'Seattle'}\n"
     ]
    }
   ],
   "source": [
    "for i in col.aggregate([{\"$match\":{\"couponUsed\":True}},\n",
    "                        {\"$sort\":{\"saleDate\":-1}},\n",
    "                        {\"$limit\":1}]):\n",
    "    pprint(i)"
   ]
  },
  {
   "cell_type": "code",
   "execution_count": 84,
   "id": "ad570a92",
   "metadata": {},
   "outputs": [
    {
     "name": "stdout",
     "output_type": "stream",
     "text": [
      "{'price_range': [{'$numberDecimal': '40.01'},\n",
      "                 {'$numberDecimal': '35.29'},\n",
      "                 {'$numberDecimal': '56.12'},\n",
      "                 {'$numberDecimal': '77.71'},\n",
      "                 {'$numberDecimal': '18.47'},\n",
      "                 {'$numberDecimal': '19.95'},\n",
      "                 {'$numberDecimal': '8.08'},\n",
      "                 {'$numberDecimal': '14.16'}]}\n",
      "{'price_range': [{'$numberDecimal': '16.97'},\n",
      "                 {'$numberDecimal': '11.92'},\n",
      "                 {'$numberDecimal': '565.42'},\n",
      "                 {'$numberDecimal': '12.83'},\n",
      "                 {'$numberDecimal': '11.82'},\n",
      "                 {'$numberDecimal': '24.57'},\n",
      "                 {'$numberDecimal': '36.13'},\n",
      "                 {'$numberDecimal': '14.44'}]}\n"
     ]
    }
   ],
   "source": [
    "#pojection 및 필드명 변경 - > 배열요소중 하나의 이름을 선택해 최상위로 승격. \n",
    "\n",
    "lst=[]\n",
    "for i in col.aggregate([{\"$match\":{\"couponUsed\":True}},{\"$project\":{\n",
    "                                                                \"_id\":0,\"price_range\":\"$items.price\"}},{\"$limit\":2}]):\n",
    "    pprint(i)\n",
    "    lst.append(i)"
   ]
  },
  {
   "cell_type": "code",
   "execution_count": 81,
   "id": "93edbf70",
   "metadata": {},
   "outputs": [
    {
     "name": "stdout",
     "output_type": "stream",
     "text": [
      "269.79\n",
      "694.1000000000001\n"
     ]
    }
   ],
   "source": [
    "#계산..\n",
    "for i in lst:\n",
    "    print(sum([float(j['$numberDecimal']) for j in i['price_range']]))"
   ]
  }
 ],
 "metadata": {
  "kernelspec": {
   "display_name": "Python 3 (ipykernel)",
   "language": "python",
   "name": "python3"
  },
  "language_info": {
   "codemirror_mode": {
    "name": "ipython",
    "version": 3
   },
   "file_extension": ".py",
   "mimetype": "text/x-python",
   "name": "python",
   "nbconvert_exporter": "python",
   "pygments_lexer": "ipython3",
   "version": "3.9.4"
  },
  "toc": {
   "base_numbering": 1,
   "nav_menu": {},
   "number_sections": true,
   "sideBar": true,
   "skip_h1_title": false,
   "title_cell": "Table of Contents",
   "title_sidebar": "Contents",
   "toc_cell": false,
   "toc_position": {},
   "toc_section_display": true,
   "toc_window_display": false
  }
 },
 "nbformat": 4,
 "nbformat_minor": 5
}
