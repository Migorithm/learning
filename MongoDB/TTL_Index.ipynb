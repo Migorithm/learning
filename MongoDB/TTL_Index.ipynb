{
 "cells": [
  {
   "cell_type": "markdown",
   "id": "f276a145",
   "metadata": {},
   "source": [
    "### Configuration"
   ]
  },
  {
   "cell_type": "code",
   "execution_count": 2,
   "id": "ad337057",
   "metadata": {},
   "outputs": [],
   "source": [
    "#Just so you know, TTL stands for Time-To-Live\n",
    "import numpy as np\n",
    "import pandas as pd\n",
    "from pymongo import MongoClient\n",
    "from pprint import pprint"
   ]
  },
  {
   "cell_type": "code",
   "execution_count": 3,
   "id": "2a68765e",
   "metadata": {},
   "outputs": [],
   "source": [
    "connection = MongoClient(\"localhost\",27017)\n",
    "db = connection.python\n"
   ]
  },
  {
   "cell_type": "markdown",
   "id": "cb445a91",
   "metadata": {},
   "source": [
    "### Creating index"
   ]
  },
  {
   "cell_type": "code",
   "execution_count": 98,
   "id": "bb48e089",
   "metadata": {},
   "outputs": [
    {
     "data": {
      "text/plain": [
       "'last_updated_1'"
      ]
     },
     "execution_count": 98,
     "metadata": {},
     "output_type": "execute_result"
    }
   ],
   "source": [
    "db.login.create_index([(\"last_updated\",1)],expireAfterSeconds =10)\n"
   ]
  },
  {
   "cell_type": "markdown",
   "id": "644980b9",
   "metadata": {},
   "source": [
    "### Inserting data containing \"THE\" field specified by the abode code."
   ]
  },
  {
   "cell_type": "code",
   "execution_count": 147,
   "id": "52a027db",
   "metadata": {},
   "outputs": [],
   "source": [
    "#Don't forget to put datetime type data.\n",
    "\n",
    "import datetime\n",
    "import pytz\n"
   ]
  },
  {
   "cell_type": "code",
   "execution_count": 204,
   "id": "c6d863cf",
   "metadata": {},
   "outputs": [],
   "source": [
    "db.login.drop()"
   ]
  },
  {
   "cell_type": "markdown",
   "id": "3a68d8b4",
   "metadata": {},
   "source": [
    "### Quick recap! Handling datetime data "
   ]
  },
  {
   "cell_type": "code",
   "execution_count": 205,
   "id": "24ab589f",
   "metadata": {},
   "outputs": [],
   "source": [
    "KST = pytz.timezone('Asia/Seoul')\n",
    "times = datetime.datetime.now(KST)"
   ]
  },
  {
   "cell_type": "code",
   "execution_count": 206,
   "id": "aac25de8",
   "metadata": {},
   "outputs": [
    {
     "data": {
      "text/plain": [
       "<pymongo.results.InsertOneResult at 0x26fd68df500>"
      ]
     },
     "execution_count": 206,
     "metadata": {},
     "output_type": "execute_result"
    }
   ],
   "source": [
    "db.login.insert_one({\"ID\":\"dsdad\",\"last_updated\":times})"
   ]
  },
  {
   "cell_type": "code",
   "execution_count": 169,
   "id": "a46a6ac8",
   "metadata": {},
   "outputs": [
    {
     "data": {
      "text/plain": [
       "<pymongo.results.InsertOneResult at 0x26fd6ee7800>"
      ]
     },
     "execution_count": 169,
     "metadata": {},
     "output_type": "execute_result"
    }
   ],
   "source": [
    "db.login.insert_one({\"ID\":\"saka90030\",\"last_updated\":datetime.datetime.utcnow()})\n",
    "\n",
    "db.login.insert_one({\"ID\":\"dsdad\",\"last_updated\":datetime.datetime.utcnow()})"
   ]
  },
  {
   "cell_type": "code",
   "execution_count": 207,
   "id": "3cc7af6d",
   "metadata": {},
   "outputs": [
    {
     "name": "stdout",
     "output_type": "stream",
     "text": [
      "{'_id': ObjectId('6113d5b7287e5f738eade777'), 'ID': 'dsdad', 'last_updated': datetime.datetime(2021, 8, 11, 13, 50, 46, 955000)}\n"
     ]
    }
   ],
   "source": [
    "for i in db.login.find():\n",
    "    print(i)"
   ]
  }
 ],
 "metadata": {
  "kernelspec": {
   "display_name": "Python 3",
   "language": "python",
   "name": "python3"
  },
  "language_info": {
   "codemirror_mode": {
    "name": "ipython",
    "version": 3
   },
   "file_extension": ".py",
   "mimetype": "text/x-python",
   "name": "python",
   "nbconvert_exporter": "python",
   "pygments_lexer": "ipython3",
   "version": "3.8.8"
  },
  "toc": {
   "base_numbering": 1,
   "nav_menu": {},
   "number_sections": true,
   "sideBar": true,
   "skip_h1_title": false,
   "title_cell": "Table of Contents",
   "title_sidebar": "Contents",
   "toc_cell": false,
   "toc_position": {},
   "toc_section_display": true,
   "toc_window_display": false
  }
 },
 "nbformat": 4,
 "nbformat_minor": 5
}
