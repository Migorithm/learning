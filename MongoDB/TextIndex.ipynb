{
 "cells": [
  {
   "cell_type": "markdown",
   "id": "3ff7fd1f",
   "metadata": {},
   "source": [
    "### Goal \n",
    "\n",
    "- python - MongoDB interlocking.\n",
    "- Text Index"
   ]
  },
  {
   "cell_type": "markdown",
   "id": "c127cc58",
   "metadata": {},
   "source": [
    "### Module\n",
    "- numpy\n",
    "- pandas\n",
    "- MongoDriver"
   ]
  },
  {
   "cell_type": "code",
   "execution_count": 93,
   "id": "094c8e86",
   "metadata": {},
   "outputs": [
    {
     "name": "stdout",
     "output_type": "stream",
     "text": [
      "Requirement already satisfied: pymongo in c:\\anaconda3\\lib\\site-packages (3.12.0)\n"
     ]
    }
   ],
   "source": [
    "!pip install pymongo\n",
    "import numpy as np\n",
    "import pandas as pd\n",
    "from pymongo import MongoClient\n",
    "from pprint import pprint"
   ]
  },
  {
   "cell_type": "markdown",
   "id": "2d5a8d8c",
   "metadata": {},
   "source": [
    "### basic configuration"
   ]
  },
  {
   "cell_type": "code",
   "execution_count": 94,
   "id": "ac0677f7",
   "metadata": {},
   "outputs": [],
   "source": [
    "connection = MongoClient(\"localhost\",27017)\n",
    "db = connection.python\n"
   ]
  },
  {
   "cell_type": "markdown",
   "id": "548d1a54",
   "metadata": {},
   "source": [
    "### Creating index"
   ]
  },
  {
   "cell_type": "code",
   "execution_count": 95,
   "id": "a6e3a1d3",
   "metadata": {},
   "outputs": [],
   "source": [
    "#텍스트 인덱스 생성(특수인덱스임.)\n",
    "\n",
    "col = db.posts\n",
    "\n",
    "try : \n",
    "    col.create_index([(\"title\",\"text\"),(\"body\",\"text\")])\n",
    "except:\n",
    "    pass"
   ]
  },
  {
   "cell_type": "code",
   "execution_count": 96,
   "id": "981ca2ce",
   "metadata": {
    "scrolled": true
   },
   "outputs": [
    {
     "name": "stdout",
     "output_type": "stream",
     "text": [
      "{'_id_': {'key': [('_id', 1)], 'v': 2},\n",
      " 'title_text_body_text': {'default_language': 'english',\n",
      "                          'key': [('_fts', 'text'), ('_ftsx', 1)],\n",
      "                          'language_override': 'language',\n",
      "                          'textIndexVersion': 3,\n",
      "                          'v': 2,\n",
      "                          'weights': SON([('body', 2), ('title', 5)])}}\n"
     ]
    }
   ],
   "source": [
    "#인덱스 생성 확인\n",
    "pprint(col.index_information())"
   ]
  },
  {
   "cell_type": "markdown",
   "id": "f2021687",
   "metadata": {},
   "source": [
    "### Inserting documents"
   ]
  },
  {
   "cell_type": "code",
   "execution_count": 97,
   "id": "b8bf58e0",
   "metadata": {},
   "outputs": [
    {
     "data": {
      "text/plain": [
       "<pymongo.results.InsertManyResult at 0x284d2e3fb00>"
      ]
     },
     "execution_count": 97,
     "metadata": {},
     "output_type": "execute_result"
    }
   ],
   "source": [
    "#자료 넣어보기\n",
    "\n",
    "col.insert_many([{\"title\":\"It's such a beatiful day!\",\"body\":\"I woke up really early this morning, rubbing my eyes and when I looked my side, there was a beatiful girl as always yet opening her eyes. And yeah, as you can imagine it was my girlfriend.\"},\n",
    "                {\"title\":\"Sombre day\",\"body\":\"Stressful but figure no way out. When I first started learning this big data and deep learning stuff, I was really hopeful and energetic but as it has been wrapped out as freaking difficult, I realized this is not my thang. What should I do?\"},\n",
    "                {\"title\":\"Wanna learn big data?\",\"body\":\"No can do. If you haven't studied yet and are older than 35, chances are you getting into a serious trouble GIVEN that you are not related to math, science or stuff.\"},\n",
    "                {\"title\":\"Mongo DB!\" ,\"body\":\"anybody wants to learn Mongo DB together?, if you do, plz let me know.\"},\n",
    "                {\"title\":\"Good morning\",\"body\":\"What have you been up to guys?\"}])\n"
   ]
  },
  {
   "cell_type": "code",
   "execution_count": 98,
   "id": "37570eb0",
   "metadata": {
    "scrolled": true
   },
   "outputs": [
    {
     "name": "stdout",
     "output_type": "stream",
     "text": [
      "{'_id': ObjectId('6113e9dd2ce2ed41c95ce2f4'),\n",
      " 'body': 'anybody wants to learn Mongo DB together?, if you do, plz let me '\n",
      "         'know.',\n",
      " 'title': 'Mongo DB!'}\n",
      "{'_id': ObjectId('6113e5712ce2ed41c95ce2ee'),\n",
      " 'body': 'anybody wants to learn Mongo DB together?, if you do, plz let me '\n",
      "         'know.',\n",
      " 'title': 'Mongo DB!'}\n",
      "{'_id': ObjectId('6113e4762ce2ed41c95ce2e8'),\n",
      " 'body': 'anybody wants to learn Mongo DB together?, if you do, plz let me '\n",
      "         'know.',\n",
      " 'title': 'Mongo DB!'}\n",
      "{'_id': ObjectId('6113b2932ce2ed41c95ce2e3'),\n",
      " 'body': 'anybody wants to learn Mongo DB together?, if you do, plz let me '\n",
      "         'know.',\n",
      " 'title': 'Mongo DB!'}\n"
     ]
    }
   ],
   "source": [
    "#텍스트 인덱스 이용, 원하는 도큐먼트 쿼리하기.\n",
    "for i in col.find({\"$text\":{\"$search\":\"want\"}}):\n",
    "    pprint(i)"
   ]
  },
  {
   "cell_type": "markdown",
   "id": "2ae25130",
   "metadata": {},
   "source": [
    "### Allocating weights"
   ]
  },
  {
   "cell_type": "code",
   "execution_count": 99,
   "id": "a284087d",
   "metadata": {},
   "outputs": [],
   "source": [
    "#인덱스 제거후 웨이트 재분배\n",
    "col.drop_index([(\"title\",\"text\"),(\"body\",\"text\")])"
   ]
  },
  {
   "cell_type": "code",
   "execution_count": 100,
   "id": "2bd269ff",
   "metadata": {
    "scrolled": true
   },
   "outputs": [
    {
     "data": {
      "text/plain": [
       "'title_text_body_text'"
      ]
     },
     "execution_count": 100,
     "metadata": {},
     "output_type": "execute_result"
    }
   ],
   "source": [
    "#웨이트값을 조정하여 새로 인덱스를 준다. \n",
    "#쉘에서와 다르게 weights는 키워드변수로 입력된다.\n",
    "col.create_index([(\"title\",\"text\"),(\"body\",\"text\")],weights={\"title\":5,\"body\":2})"
   ]
  },
  {
   "cell_type": "code",
   "execution_count": 101,
   "id": "4db98359",
   "metadata": {},
   "outputs": [
    {
     "name": "stdout",
     "output_type": "stream",
     "text": [
      "{'_id': ObjectId('6113e9dd2ce2ed41c95ce2f4'),\n",
      " 'body': 'anybody wants to learn Mongo DB together?, if you do, plz let me '\n",
      "         'know.',\n",
      " 'title': 'Mongo DB!'}\n",
      "{'_id': ObjectId('6113e5712ce2ed41c95ce2ee'),\n",
      " 'body': 'anybody wants to learn Mongo DB together?, if you do, plz let me '\n",
      "         'know.',\n",
      " 'title': 'Mongo DB!'}\n",
      "{'_id': ObjectId('6113e4762ce2ed41c95ce2e8'),\n",
      " 'body': 'anybody wants to learn Mongo DB together?, if you do, plz let me '\n",
      "         'know.',\n",
      " 'title': 'Mongo DB!'}\n",
      "{'_id': ObjectId('6113b2932ce2ed41c95ce2e3'),\n",
      " 'body': 'anybody wants to learn Mongo DB together?, if you do, plz let me '\n",
      "         'know.',\n",
      " 'title': 'Mongo DB!'}\n"
     ]
    }
   ],
   "source": [
    "for i in col.find({\"$text\":{\"$search\":\"DB\"}}):\n",
    "    pprint(i)\n",
    "    \n",
    "#결과는 똑같이 나오는 것 같은데... 연관성을 어떻게 판단하는가?"
   ]
  },
  {
   "cell_type": "markdown",
   "id": "cebae43e",
   "metadata": {},
   "source": [
    "### Find documents relevant to what you want"
   ]
  },
  {
   "cell_type": "code",
   "execution_count": 102,
   "id": "0ff9cf4c",
   "metadata": {},
   "outputs": [
    {
     "name": "stdout",
     "output_type": "stream",
     "text": [
      "{'LEVEL': 3.125,\n",
      " '_id': ObjectId('6113e9dd2ce2ed41c95ce2f3'),\n",
      " 'body': \"No can do. If you haven't studied yet and are older than 35, chances \"\n",
      "         'are you getting into a serious trouble GIVEN that you are not '\n",
      "         'related to math, science or stuff.',\n",
      " 'title': 'Wanna learn big data?'}\n",
      "{'LEVEL': 1.0526315789473684,\n",
      " '_id': ObjectId('6113e9dd2ce2ed41c95ce2f2'),\n",
      " 'body': 'Stressful but figure no way out. When I first started learning this '\n",
      "         'big data and deep learning stuff, I was really hopeful and energetic '\n",
      "         'but as it has been wrapped out as freaking difficult, I realized '\n",
      "         'this is not my thang. What should I do?',\n",
      " 'title': 'Sombre day'}\n",
      "{'LEVEL': 3.125,\n",
      " '_id': ObjectId('6113e4762ce2ed41c95ce2e7'),\n",
      " 'body': \"No can do. If you haven't studied yet and are older than 35, chances \"\n",
      "         'are you getting into a serious trouble GIVEN that you are not '\n",
      "         'related to math, science or stuff.',\n",
      " 'title': 'Wanna learn big data?'}\n",
      "{'LEVEL': 3.125,\n",
      " '_id': ObjectId('6113b2932ce2ed41c95ce2e2'),\n",
      " 'body': \"No can do. If you haven't studied yet and are older than 35, chances \"\n",
      "         'are you getting into a serious trouble GIVEN that you are not '\n",
      "         'related to math, science or stuff.',\n",
      " 'title': 'Wanna learn big data?'}\n",
      "{'LEVEL': 1.0526315789473684,\n",
      " '_id': ObjectId('6113e5712ce2ed41c95ce2ec'),\n",
      " 'body': 'Stressful but figure no way out. When I first started learning this '\n",
      "         'big data and deep learning stuff, I was really hopeful and energetic '\n",
      "         'but as it has been wrapped out as freaking difficult, I realized '\n",
      "         'this is not my thang. What should I do?',\n",
      " 'title': 'Sombre day'}\n",
      "{'LEVEL': 1.0526315789473684,\n",
      " '_id': ObjectId('6113e4762ce2ed41c95ce2e6'),\n",
      " 'body': 'Stressful but figure no way out. When I first started learning this '\n",
      "         'big data and deep learning stuff, I was really hopeful and energetic '\n",
      "         'but as it has been wrapped out as freaking difficult, I realized '\n",
      "         'this is not my thang. What should I do?',\n",
      " 'title': 'Sombre day'}\n",
      "{'LEVEL': 3.125,\n",
      " '_id': ObjectId('6113e5712ce2ed41c95ce2ed'),\n",
      " 'body': \"No can do. If you haven't studied yet and are older than 35, chances \"\n",
      "         'are you getting into a serious trouble GIVEN that you are not '\n",
      "         'related to math, science or stuff.',\n",
      " 'title': 'Wanna learn big data?'}\n",
      "{'LEVEL': 1.0526315789473684,\n",
      " '_id': ObjectId('6113b2932ce2ed41c95ce2e1'),\n",
      " 'body': 'Stressful but figure no way out. When I first started learning this '\n",
      "         'big data and deep learning stuff, I was really hopeful and energetic '\n",
      "         'but as it has been wrapped out as freaking difficult, I realized '\n",
      "         'this is not my thang. What should I do?',\n",
      " 'title': 'Sombre day'}\n"
     ]
    }
   ],
   "source": [
    "#연관성 판단. projection field에 $meta 파이프라인을 추가해서 textScore를 매겨준다. \n",
    "\n",
    "what_you_want = \"data\"\n",
    "wants_to_find,score = {\"$text\":{\"$search\":what_you_want}},{\"LEVEL\":{\"$meta\":\"textScore\"}}\n",
    "\n",
    "for i in col.find(wants_to_find,score):\n",
    "    pprint(i)"
   ]
  },
  {
   "cell_type": "code",
   "execution_count": null,
   "id": "d127f588",
   "metadata": {},
   "outputs": [],
   "source": []
  },
  {
   "cell_type": "code",
   "execution_count": null,
   "id": "da6c4d59",
   "metadata": {},
   "outputs": [],
   "source": []
  }
 ],
 "metadata": {
  "kernelspec": {
   "display_name": "Python 3",
   "language": "python",
   "name": "python3"
  },
  "language_info": {
   "codemirror_mode": {
    "name": "ipython",
    "version": 3
   },
   "file_extension": ".py",
   "mimetype": "text/x-python",
   "name": "python",
   "nbconvert_exporter": "python",
   "pygments_lexer": "ipython3",
   "version": "3.8.8"
  },
  "toc": {
   "base_numbering": 1,
   "nav_menu": {},
   "number_sections": true,
   "sideBar": true,
   "skip_h1_title": false,
   "title_cell": "Table of Contents",
   "title_sidebar": "Contents",
   "toc_cell": false,
   "toc_position": {},
   "toc_section_display": true,
   "toc_window_display": false
  }
 },
 "nbformat": 4,
 "nbformat_minor": 5
}
