{
 "cells": [
  {
   "cell_type": "code",
   "execution_count": 3,
   "id": "c5694bb3-7a8b-4e25-a861-2de28d9aecb1",
   "metadata": {},
   "outputs": [],
   "source": [
    "import pymongo\n",
    "from pprint import pprint\n",
    "import pandas as pd\n",
    "import numpy as np\n",
    "from IPython.display import Image"
   ]
  },
  {
   "cell_type": "code",
   "execution_count": 4,
   "id": "87f63d96-eb5b-42d0-8f11-259749345cbb",
   "metadata": {},
   "outputs": [
    {
     "name": "stdout",
     "output_type": "stream",
     "text": [
      "{'_id': ObjectId('61167af198608fe75d51477e'),\n",
      " 'funding_rounds': [{'raised_amount': 7172702, 'round_code': 'a'},\n",
      "                    {'raised_amount': 7914665, 'round_code': 'b'},\n",
      "                    {'raised_amount': 7915102, 'round_code': 'c'},\n",
      "                    {'raised_amount': 9297130, 'round_code': 'd'},\n",
      "                    {'raised_amount': 7519725, 'round_code': 'e'},\n",
      "                    {'raised_amount': 3479603, 'round_code': 'f'}],\n",
      " 'name': 'Facebook'}\n",
      "{'_id': ObjectId('61167af198608fe75d51477f'),\n",
      " 'funding_rounds': [{'raised_amount': 2716902, 'round_code': 'a'},\n",
      "                    {'raised_amount': 9737827, 'round_code': 'b'},\n",
      "                    {'raised_amount': 9606464, 'round_code': 'c'},\n",
      "                    {'raised_amount': 618771, 'round_code': 'd'},\n",
      "                    {'raised_amount': 509318, 'round_code': 'e'},\n",
      "                    {'raised_amount': 1924125, 'round_code': 'f'}],\n",
      " 'name': 'Google'}\n",
      "{'_id': ObjectId('61167af198608fe75d514780'),\n",
      " 'funding_rounds': [{'raised_amount': 9193583, 'round_code': 'a'},\n",
      "                    {'raised_amount': 3062527, 'round_code': 'b'},\n",
      "                    {'raised_amount': 5998487, 'round_code': 'c'},\n",
      "                    {'raised_amount': 6179664, 'round_code': 'd'},\n",
      "                    {'raised_amount': 2567725, 'round_code': 'e'},\n",
      "                    {'raised_amount': 4099935, 'round_code': 'f'}],\n",
      " 'name': 'Naver'}\n",
      "{'_id': ObjectId('61167af198608fe75d514781'),\n",
      " 'funding_rounds': [{'raised_amount': 4590945, 'round_code': 'a'},\n",
      "                    {'raised_amount': 6847730, 'round_code': 'b'},\n",
      "                    {'raised_amount': 4807965, 'round_code': 'c'},\n",
      "                    {'raised_amount': 7506110, 'round_code': 'd'},\n",
      "                    {'raised_amount': 4590778, 'round_code': 'e'},\n",
      "                    {'raised_amount': 2981034, 'round_code': 'f'}],\n",
      " 'name': 'Daum'}\n",
      "{'_id': ObjectId('61167af198608fe75d514782'),\n",
      " 'funding_rounds': [{'raised_amount': 8544121, 'round_code': 'a'},\n",
      "                    {'raised_amount': 2108116, 'round_code': 'b'},\n",
      "                    {'raised_amount': 3454778, 'round_code': 'c'},\n",
      "                    {'raised_amount': 4738163, 'round_code': 'd'},\n",
      "                    {'raised_amount': 2407252, 'round_code': 'e'},\n",
      "                    {'raised_amount': 573930, 'round_code': 'f'}],\n",
      " 'name': 'Coupang'}\n",
      "{'_id': ObjectId('61167af198608fe75d514783'),\n",
      " 'funding_rounds': [{'raised_amount': 9988785, 'round_code': 'a'},\n",
      "                    {'raised_amount': 4806901, 'round_code': 'b'},\n",
      "                    {'raised_amount': 5133156, 'round_code': 'c'},\n",
      "                    {'raised_amount': 8918466, 'round_code': 'd'},\n",
      "                    {'raised_amount': 8302021, 'round_code': 'e'},\n",
      "                    {'raised_amount': 1878589, 'round_code': 'f'}],\n",
      " 'name': 'Baemin'}\n",
      "{'_id': ObjectId('61167af198608fe75d514784'),\n",
      " 'funding_rounds': [{'raised_amount': 7330426, 'round_code': 'a'},\n",
      "                    {'raised_amount': 3512269, 'round_code': 'b'},\n",
      "                    {'raised_amount': 7343947, 'round_code': 'c'},\n",
      "                    {'raised_amount': 2339675, 'round_code': 'd'},\n",
      "                    {'raised_amount': 2116981, 'round_code': 'e'},\n",
      "                    {'raised_amount': 6102968, 'round_code': 'f'}],\n",
      " 'name': 'Line'}\n"
     ]
    }
   ],
   "source": [
    "connection =pymongo.MongoClient(\"localhost\",27017)\n",
    "db = connection.python\n",
    "\n",
    "for i in db.funds.find():\n",
    "    pprint(i)"
   ]
  },
  {
   "cell_type": "markdown",
   "id": "ef9c6022-c8e3-42a6-89ca-802da06630f2",
   "metadata": {},
   "source": [
    "\n",
    "<br><br>\n",
    "\n",
    "---\n",
    "\n",
    "### \\$size\n",
    "- you cannot query size of array directly. \n",
    "<br>\n",
    "\n",
    "#### Solutions\n",
    "\n",
    "1) You can create different field specifying how many things that you have in an array\n",
    "2) You can utilize project the size of array through \\\\$project and use \\\\$match\n",
    "3) \\$expr\n",
    "    - \\\\$expr can build query expressions that compare fields from the same document in a $match stage.\n"
   ]
  },
  {
   "cell_type": "code",
   "execution_count": 5,
   "id": "145df9ee-902a-4b44-a537-b15e8c4541ed",
   "metadata": {},
   "outputs": [
    {
     "name": "stdout",
     "output_type": "stream",
     "text": [
      "{'_id': ObjectId('61167af198608fe75d51477e'),\n",
      " 'funding_rounds': [{'raised_amount': 7172702, 'round_code': 'a'},\n",
      "                    {'raised_amount': 7914665, 'round_code': 'b'},\n",
      "                    {'raised_amount': 7915102, 'round_code': 'c'},\n",
      "                    {'raised_amount': 9297130, 'round_code': 'd'},\n",
      "                    {'raised_amount': 7519725, 'round_code': 'e'},\n",
      "                    {'raised_amount': 3479603, 'round_code': 'f'}],\n",
      " 'name': 'Facebook'}\n"
     ]
    }
   ],
   "source": [
    "for i in db.funds.aggregate([{\"$match\":{\"funding_rounds\" :{\"$size\":6}}},{\"$limit\":1}]):\n",
    "    pprint(i)\n",
    "    \n",
    "#but, you can't query like this:\n",
    "#db.funds.aggregate([{\"$match\":{\"funding_rounds\":{\"$size\":{\"$gt\":5}}}}])"
   ]
  },
  {
   "cell_type": "markdown",
   "id": "9d379cb0-969e-4e73-9cef-34b5fcebd893",
   "metadata": {},
   "source": [
    "#### use of project and match combination"
   ]
  },
  {
   "cell_type": "code",
   "execution_count": 19,
   "id": "5cc24cb2-ebc4-4aff-a374-34c48bd14ea2",
   "metadata": {},
   "outputs": [
    {
     "name": "stdout",
     "output_type": "stream",
     "text": [
      "{'funding_rounds': [{'raised_amount': 7172702, 'round_code': 'a'},\n",
      "                    {'raised_amount': 7914665, 'round_code': 'b'},\n",
      "                    {'raised_amount': 7915102, 'round_code': 'c'},\n",
      "                    {'raised_amount': 9297130, 'round_code': 'd'},\n",
      "                    {'raised_amount': 7519725, 'round_code': 'e'},\n",
      "                    {'raised_amount': 3479603, 'round_code': 'f'}],\n",
      " 'name': 'Facebook',\n",
      " 'num_of_size': 6}\n"
     ]
    }
   ],
   "source": [
    "\n",
    "\n",
    "for i in db.funds.aggregate([{\"$project\":{\"_id\":0,\n",
    "                                          \"name\":1,\n",
    "                                          \"num_of_size\":{\"$size\":\"$funding_rounds\"},\n",
    "                                         \"funding_rounds\":1}},\n",
    "                            {\"$match\":{\"num_of_size\":{\"$eq\":6}}},\n",
    "                            {\"$limit\":1}]):\n",
    "    pprint(i)\n",
    "    \n",
    "    \n",
    "#db.accommodations.find( { $where: \"this.name.length > 1\" } );"
   ]
  },
  {
   "cell_type": "markdown",
   "id": "f209e148-ec13-404b-9c9d-c85070751c09",
   "metadata": {},
   "source": [
    "#### use of \\$expr"
   ]
  },
  {
   "cell_type": "code",
   "execution_count": 22,
   "id": "d75c6d89-2c2e-451f-923d-110c85633667",
   "metadata": {},
   "outputs": [
    {
     "name": "stdout",
     "output_type": "stream",
     "text": [
      "{'_id': ObjectId('61167af198608fe75d51477e'),\n",
      " 'funding_rounds': [{'raised_amount': 7172702, 'round_code': 'a'},\n",
      "                    {'raised_amount': 7914665, 'round_code': 'b'},\n",
      "                    {'raised_amount': 7915102, 'round_code': 'c'},\n",
      "                    {'raised_amount': 9297130, 'round_code': 'd'},\n",
      "                    {'raised_amount': 7519725, 'round_code': 'e'},\n",
      "                    {'raised_amount': 3479603, 'round_code': 'f'}],\n",
      " 'name': 'Facebook'}\n"
     ]
    }
   ],
   "source": [
    "for i in db.funds.aggregate([{\"$match\":{\"$expr\":{\"$gt\":[{\"$size\":\"$funding_rounds\"},5]}}},{\"$limit\":1}]):\n",
    "    pprint(i)\n",
    "    \n",
    "#funding_rounds의 값의 사이즈가 5이상인 것들을 매치되는 대로 리턴해달라는 의미가 된다."
   ]
  },
  {
   "cell_type": "markdown",
   "id": "14606624-b0ac-4cfb-b370-743514c91332",
   "metadata": {},
   "source": [
    "---\n",
    "\n",
    "### \\$slice"
   ]
  },
  {
   "cell_type": "code",
   "execution_count": 7,
   "id": "ee2e36c9-3622-4e6e-b7a2-b3070f410e33",
   "metadata": {},
   "outputs": [
    {
     "name": "stdout",
     "output_type": "stream",
     "text": [
      "{'_id': ObjectId('61167af198608fe75d51477e'),\n",
      " 'middle_rounds': [{'raised_amount': 7915102, 'round_code': 'c'},\n",
      "                   {'raised_amount': 9297130, 'round_code': 'd'},\n",
      "                   {'raised_amount': 7519725, 'round_code': 'e'}],\n",
      " 'name': 'Facebook'}\n",
      "{'_id': ObjectId('61167af198608fe75d51477f'),\n",
      " 'middle_rounds': [{'raised_amount': 9606464, 'round_code': 'c'},\n",
      "                   {'raised_amount': 618771, 'round_code': 'd'},\n",
      "                   {'raised_amount': 509318, 'round_code': 'e'}],\n",
      " 'name': 'Google'}\n",
      "{'_id': ObjectId('61167af198608fe75d514780'),\n",
      " 'middle_rounds': [{'raised_amount': 5998487, 'round_code': 'c'},\n",
      "                   {'raised_amount': 6179664, 'round_code': 'd'},\n",
      "                   {'raised_amount': 2567725, 'round_code': 'e'}],\n",
      " 'name': 'Naver'}\n",
      "{'_id': ObjectId('61167af198608fe75d514781'),\n",
      " 'middle_rounds': [{'raised_amount': 4807965, 'round_code': 'c'},\n",
      "                   {'raised_amount': 7506110, 'round_code': 'd'},\n",
      "                   {'raised_amount': 4590778, 'round_code': 'e'}],\n",
      " 'name': 'Daum'}\n",
      "{'_id': ObjectId('61167af198608fe75d514782'),\n",
      " 'middle_rounds': [{'raised_amount': 3454778, 'round_code': 'c'},\n",
      "                   {'raised_amount': 4738163, 'round_code': 'd'},\n",
      "                   {'raised_amount': 2407252, 'round_code': 'e'}],\n",
      " 'name': 'Coupang'}\n",
      "{'_id': ObjectId('61167af198608fe75d514783'),\n",
      " 'middle_rounds': [{'raised_amount': 5133156, 'round_code': 'c'},\n",
      "                   {'raised_amount': 8918466, 'round_code': 'd'},\n",
      "                   {'raised_amount': 8302021, 'round_code': 'e'}],\n",
      " 'name': 'Baemin'}\n",
      "{'_id': ObjectId('61167af198608fe75d514784'),\n",
      " 'middle_rounds': [{'raised_amount': 7343947, 'round_code': 'c'},\n",
      "                   {'raised_amount': 2339675, 'round_code': 'd'},\n",
      "                   {'raised_amount': 2116981, 'round_code': 'e'}],\n",
      " 'name': 'Line'}\n"
     ]
    }
   ],
   "source": [
    "for i in db.funds.aggregate([{\"$project\":{\"_id\":1,\"name\":1,\"middle_rounds\":{\"$slice\":[\"$funding_rounds\",2,3]}}}]):\n",
    "    pprint(i)"
   ]
  },
  {
   "cell_type": "code",
   "execution_count": null,
   "id": "c6a6eb14-969f-4c0c-b82f-608062cedaf0",
   "metadata": {},
   "outputs": [],
   "source": []
  },
  {
   "cell_type": "code",
   "execution_count": null,
   "id": "40e5a92f-4e90-4082-beb5-d03dcfd58826",
   "metadata": {},
   "outputs": [],
   "source": []
  },
  {
   "cell_type": "code",
   "execution_count": null,
   "id": "438bbe94-a882-4e3f-b8b4-df5b5e31734e",
   "metadata": {},
   "outputs": [],
   "source": []
  }
 ],
 "metadata": {
  "kernelspec": {
   "display_name": "Python 3 (ipykernel)",
   "language": "python",
   "name": "python3"
  },
  "language_info": {
   "codemirror_mode": {
    "name": "ipython",
    "version": 3
   },
   "file_extension": ".py",
   "mimetype": "text/x-python",
   "name": "python",
   "nbconvert_exporter": "python",
   "pygments_lexer": "ipython3",
   "version": "3.9.4"
  }
 },
 "nbformat": 4,
 "nbformat_minor": 5
}
