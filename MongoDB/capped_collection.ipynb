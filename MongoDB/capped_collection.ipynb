{
 "cells": [
  {
   "cell_type": "markdown",
   "id": "5eae7a64",
   "metadata": {},
   "source": [
    "### configuration"
   ]
  },
  {
   "cell_type": "code",
   "execution_count": 1,
   "id": "91188fa4",
   "metadata": {},
   "outputs": [],
   "source": [
    "import numpy as np\n",
    "import pandas as pd\n",
    "from pymongo import MongoClient\n",
    "from pprint import pprint\n",
    "\n",
    "connection = MongoClient(\"localhost\",27017)\n",
    "db = connection.python\n"
   ]
  },
  {
   "cell_type": "markdown",
   "id": "c4ff172a",
   "metadata": {},
   "source": [
    "### Creating capped-collection"
   ]
  },
  {
   "cell_type": "code",
   "execution_count": 10,
   "id": "a497fa34",
   "metadata": {
    "scrolled": true
   },
   "outputs": [
    {
     "data": {
      "text/plain": [
       "Collection(Database(MongoClient(host=['localhost:27017'], document_class=dict, tz_aware=False, connect=True), 'python'), 'limited')"
      ]
     },
     "execution_count": 10,
     "metadata": {},
     "output_type": "execute_result"
    }
   ],
   "source": [
    "# 실제 몽고디비에서 해야하는 방식 db.createCollection(\"limited\",{\"capped\":True,\"size\":100000})\n",
    "#파이몽고로 해야하는 방식\n",
    "db.create_collection(\"limited\",capped=True,size=100000,max=3)"
   ]
  },
  {
   "cell_type": "markdown",
   "id": "ec085761",
   "metadata": {},
   "source": [
    "### Inserting data"
   ]
  },
  {
   "cell_type": "code",
   "execution_count": 14,
   "id": "1b7fa22a",
   "metadata": {},
   "outputs": [
    {
     "data": {
      "text/plain": [
       "<pymongo.results.InsertOneResult at 0x18068813fc0>"
      ]
     },
     "execution_count": 14,
     "metadata": {},
     "output_type": "execute_result"
    }
   ],
   "source": [
    "db.limited.insert_one({\"name\":\"Oracle\",\"age\":19})\n",
    "db.limited.insert_one({\"name\":\"Json\",\"age\":20})\n",
    "db.limited.insert_one({\"name\":\"Mongo\",\"age\":50})\n",
    "db.limited.insert_one({\"name\":\"Python\",\"age\":13})"
   ]
  },
  {
   "cell_type": "code",
   "execution_count": 16,
   "id": "c63dfab3",
   "metadata": {
    "scrolled": true
   },
   "outputs": [
    {
     "name": "stdout",
     "output_type": "stream",
     "text": [
      "{'_id': ObjectId('6113be40adfa5cd41d745360'), 'name': 'Json', 'age': 20}\n",
      "{'_id': ObjectId('6113be40adfa5cd41d745361'), 'name': 'Mongo', 'age': 50}\n",
      "{'_id': ObjectId('6113be40adfa5cd41d745362'), 'name': 'Python', 'age': 13}\n"
     ]
    }
   ],
   "source": [
    "for i in db.limited.find():\n",
    "    print(i)"
   ]
  },
  {
   "cell_type": "markdown",
   "id": "f52a40b9",
   "metadata": {},
   "source": [
    "### Converting normal collection to capped collection"
   ]
  },
  {
   "cell_type": "code",
   "execution_count": 17,
   "id": "b4282ca6",
   "metadata": {},
   "outputs": [
    {
     "data": {
      "text/plain": [
       "<pymongo.results.InsertManyResult at 0x180688131c0>"
      ]
     },
     "execution_count": 17,
     "metadata": {},
     "output_type": "execute_result"
    }
   ],
   "source": [
    "db.sudo.insert_many([{\"name\":\"Oracle\"},\n",
    "                     {\"name\":\"Tensor\"},\n",
    "                     {\"name\":\"Pytorch\",\"age\":19},\n",
    "                     {\"name\":\"hadoop\",\"age\":19},\n",
    "                     {\"name\":\"Mongo\",\"age\":19},\n",
    "                     {\"name\":\"MySQL\",\"age\":59},\n",
    "                     {\"name\":\"React\",\"age\":39},\n",
    "                     {\"name\":\"Node\",\"age\":19},\n",
    "                     {\"name\":\"Angular\",\"age\":19},\n",
    "                     {\"name\":\"Docker\",\"age\":19},\n",
    "                     {\"name\":\"Kbx\",\"age\":19},\n",
    "                     {\"name\":\"Spark\",\"age\":19}])"
   ]
  },
  {
   "cell_type": "code",
   "execution_count": 22,
   "id": "43ec4f22",
   "metadata": {
    "scrolled": true
   },
   "outputs": [],
   "source": [
    "#쉘에서 그냥 하자! db.run_command({\"convertToCapped\":\"sudo\",\"size\":10000})"
   ]
  }
 ],
 "metadata": {
  "kernelspec": {
   "display_name": "Python 3",
   "language": "python",
   "name": "python3"
  },
  "language_info": {
   "codemirror_mode": {
    "name": "ipython",
    "version": 3
   },
   "file_extension": ".py",
   "mimetype": "text/x-python",
   "name": "python",
   "nbconvert_exporter": "python",
   "pygments_lexer": "ipython3",
   "version": "3.8.8"
  },
  "toc": {
   "base_numbering": 1,
   "nav_menu": {},
   "number_sections": true,
   "sideBar": true,
   "skip_h1_title": false,
   "title_cell": "Table of Contents",
   "title_sidebar": "Contents",
   "toc_cell": false,
   "toc_position": {},
   "toc_section_display": true,
   "toc_window_display": false
  }
 },
 "nbformat": 4,
 "nbformat_minor": 5
}
