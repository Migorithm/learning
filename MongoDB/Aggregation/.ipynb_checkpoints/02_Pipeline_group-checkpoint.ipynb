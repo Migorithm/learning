{
 "cells": [
  {
   "cell_type": "markdown",
   "id": "0e1c7175-adb8-4358-a665-62769d935f67",
   "metadata": {},
   "source": [
    "### GROUP, UNWIND, ALIAS ..."
   ]
  },
  {
   "cell_type": "markdown",
   "id": "cf4bea99-da52-4ece-962b-222c1a7066af",
   "metadata": {},
   "source": [
    "### Configuration"
   ]
  },
  {
   "cell_type": "code",
   "execution_count": 1,
   "id": "cd5f2077-e2e0-439f-8545-8e5f10f8dd87",
   "metadata": {},
   "outputs": [],
   "source": [
    "import pymongo\n",
    "from pprint import pprint\n",
    "import pandas as pd\n",
    "import numpy as np\n",
    "from IPython.display import Image"
   ]
  },
  {
   "cell_type": "code",
   "execution_count": 2,
   "id": "3b7d8371-a325-48c9-a661-b97f1fab65ba",
   "metadata": {},
   "outputs": [],
   "source": [
    "connection = pymongo.MongoClient('localhost',27017)"
   ]
  },
  {
   "cell_type": "code",
   "execution_count": 3,
   "id": "8e6b65c7-d5da-4623-8f1d-2827fdcfb7a5",
   "metadata": {},
   "outputs": [],
   "source": [
    "db = connection.python\n",
    "\n",
    "col = db.sales"
   ]
  },
  {
   "cell_type": "code",
   "execution_count": 4,
   "id": "b1b774b6-9b61-4a38-99df-50825ac23cfa",
   "metadata": {},
   "outputs": [
    {
     "name": "stdout",
     "output_type": "stream",
     "text": [
      "{'_id': {'id': '5bd761dcae323e45a93ccfe8'},\n",
      " 'couponUsed': True,\n",
      " 'customer': {'age': {'$numberInt': '42'},\n",
      "              'email': 'cauho@witwuta.sv',\n",
      "              'gender': 'M',\n",
      "              'satisfaction': {'$numberInt': '4'}},\n",
      " 'items': [{'name': 'printer paper',\n",
      "            'price': {'$numberDecimal': '40.01'},\n",
      "            'quantity': {'$numberInt': '2'},\n",
      "            'tags': ['office', 'stationary']},\n",
      "           {'name': 'notepad',\n",
      "            'price': {'$numberDecimal': '35.29'},\n",
      "            'quantity': {'$numberInt': '2'},\n",
      "            'tags': ['office', 'writing', 'school']},\n",
      "           {'name': 'pens',\n",
      "            'price': {'$numberDecimal': '56.12'},\n",
      "            'quantity': {'$numberInt': '5'},\n",
      "            'tags': ['writing', 'office', 'school', 'stationary']},\n",
      "           {'name': 'backpack',\n",
      "            'price': {'$numberDecimal': '77.71'},\n",
      "            'quantity': {'$numberInt': '2'},\n",
      "            'tags': ['school', 'travel', 'kids']},\n",
      "           {'name': 'notepad',\n",
      "            'price': {'$numberDecimal': '18.47'},\n",
      "            'quantity': {'$numberInt': '2'},\n",
      "            'tags': ['office', 'writing', 'school']},\n",
      "           {'name': 'envelopes',\n",
      "            'price': {'$numberDecimal': '19.95'},\n",
      "            'quantity': {'$numberInt': '8'},\n",
      "            'tags': ['stationary', 'office', 'general']},\n",
      "           {'name': 'envelopes',\n",
      "            'price': {'$numberDecimal': '8.08'},\n",
      "            'quantity': {'$numberInt': '3'},\n",
      "            'tags': ['stationary', 'office', 'general']},\n",
      "           {'name': 'binder',\n",
      "            'price': {'$numberDecimal': '14.16'},\n",
      "            'quantity': {'$numberInt': '3'},\n",
      "            'tags': ['school', 'general', 'organization']}],\n",
      " 'purchaseMethod': 'Online',\n",
      " 'saleDate': {'$date': {'$numberLong': '1427144809506'}},\n",
      " 'storeLocation': 'Denver'}\n"
     ]
    }
   ],
   "source": [
    "#간단한 정보확인\n",
    "for i in col.find().limit(1):\n",
    "    pprint(i)"
   ]
  },
  {
   "cell_type": "markdown",
   "id": "7b9a2890-b96c-4da3-8c29-180c2d0fb328",
   "metadata": {},
   "source": [
    "### Goal!\n",
    "\n",
    "- \\$match \n",
    "- \\$project\n",
    "- \\$sort\n",
    "- \\$skip\n",
    "- \\$limit"
   ]
  },
  {
   "cell_type": "code",
   "execution_count": 5,
   "id": "e8c2c1bb-4fec-4273-80c0-be86d96141fe",
   "metadata": {},
   "outputs": [
    {
     "data": {
      "text/html": [
       "<img src=\"https://appsyoda.com/blogimages/MongoDB-Pipeline.png\"/>"
      ],
      "text/plain": [
       "<IPython.core.display.Image object>"
      ]
     },
     "execution_count": 5,
     "metadata": {},
     "output_type": "execute_result"
    }
   ],
   "source": [
    "\n",
    "Image(url= \"https://appsyoda.com/blogimages/MongoDB-Pipeline.png\")"
   ]
  },
  {
   "cell_type": "markdown",
   "id": "200081a6-58e7-4f29-8f85-e445e511ab85",
   "metadata": {},
   "source": [
    "#### When using find"
   ]
  },
  {
   "cell_type": "code",
   "execution_count": 6,
   "id": "66db7393-6838-4466-ab0c-b8c7ab280b07",
   "metadata": {},
   "outputs": [
    {
     "name": "stdout",
     "output_type": "stream",
     "text": [
      "{'customer': {'satisfaction': {'$numberInt': '4'}}}\n",
      "{'customer': {'satisfaction': {'$numberInt': '5'}}}\n"
     ]
    }
   ],
   "source": [
    "for i in col.find({\"couponUsed\":True,\"customer.gender\":\"M\"},{\"_id\":0,\"customer.satisfaction\":1}).limit(2):\n",
    "    pprint(i)"
   ]
  },
  {
   "cell_type": "markdown",
   "id": "24fefaea-465a-4363-b5d5-4042eb5f547a",
   "metadata": {},
   "source": [
    "#### When using aggregate "
   ]
  },
  {
   "cell_type": "code",
   "execution_count": 80,
   "id": "2a46345c-11b8-481d-919c-5e07731b198a",
   "metadata": {},
   "outputs": [
    {
     "name": "stdout",
     "output_type": "stream",
     "text": [
      "{'Sat': {'$numberInt': '4'}}\n",
      "{'Sat': {'$numberInt': '5'}}\n"
     ]
    }
   ],
   "source": [
    "for i in col.aggregate([{\"$match\":{\"couponUsed\":True,\"customer.gender\":\"M\"}},{\"$project\":{\"_id\":0,\"Sat\":\"$customer.satisfaction\"}},{\"$limit\":2}]):\n",
    "    pprint(i)"
   ]
  },
  {
   "cell_type": "code",
   "execution_count": 38,
   "id": "84b118b0-18fc-4d09-b287-1150b6288a72",
   "metadata": {},
   "outputs": [
    {
     "name": "stdout",
     "output_type": "stream",
     "text": [
      "\\$\n"
     ]
    }
   ],
   "source": [
    "print(\"\\$\")"
   ]
  },
  {
   "cell_type": "markdown",
   "id": "a7e5635a-0ab7-4c27-9146-6681b15dfd67",
   "metadata": {},
   "source": [
    "#### This may seem pretty much the same, but..."
   ]
  },
  {
   "cell_type": "code",
   "execution_count": 79,
   "id": "bd0a25fb-75c3-4554-863c-567f9311412d",
   "metadata": {},
   "outputs": [
    {
     "name": "stdout",
     "output_type": "stream",
     "text": [
      "{'customer': {'satisfaction': {'$numberInt': '4'}}}\n"
     ]
    }
   ],
   "source": [
    "for i in col.aggregate([{\"$limit\":2},{\"$match\":{\"couponUsed\":True,\"customer.gender\":\"M\"}},{\"$project\":{\"_id\":0,\"customer.satisfaction\":1}}]):\n",
    "    pprint(i) "
   ]
  },
  {
   "cell_type": "markdown",
   "id": "c7d48447-784e-4f62-af6e-54c58ef52286",
   "metadata": {},
   "source": [
    "#### As you can see, we can customize order of commands."
   ]
  },
  {
   "cell_type": "markdown",
   "id": "419b1407-1b44-4adb-8586-78b11f0042c9",
   "metadata": {},
   "source": [
    "---\n",
    "\n",
    "\n",
    "### 오프라인으로 구매하는 사람 비율 vs 온라인으로 구매하는 사람 비율을 알아보자\n",
    "- 그룹화\n",
    "- 카운트"
   ]
  },
  {
   "cell_type": "code",
   "execution_count": 9,
   "id": "2d180fd0-9f68-42cd-a25d-7fe74577f840",
   "metadata": {},
   "outputs": [
    {
     "data": {
      "text/plain": [
       "['In store', 'Online', 'Phone']"
      ]
     },
     "execution_count": 9,
     "metadata": {},
     "output_type": "execute_result"
    }
   ],
   "source": [
    "#몇가지 방법이 있는가? 확인\n",
    "col.find().distinct(\"purchaseMethod\")"
   ]
  },
  {
   "cell_type": "code",
   "execution_count": 10,
   "id": "af82291a-2740-4728-938e-7e7b6b2144f8",
   "metadata": {},
   "outputs": [
    {
     "name": "stdout",
     "output_type": "stream",
     "text": [
      "{'_id': {'Method': 'In store'}, 'HowMany': 2819}\n",
      "{'_id': {'Method': 'Online'}, 'HowMany': 1585}\n",
      "{'_id': {'Method': 'Phone'}, 'HowMany': 596}\n"
     ]
    }
   ],
   "source": [
    "#프로젝트를 통해 표현할 것을 지정\n",
    "#하나의 레코드가 1로 지정되어야 하므로 1씩 넣어준다 (literal사용)\n",
    "\n",
    "for i in col.aggregate([{\"$project\":{\"purchaseMethod\":1,\"count\":{\"$literal\":1}}},\n",
    "                        {\"$group\":{\"_id\":\n",
    "                                   {\"Method\":\"$purchaseMethod\"},\n",
    "                                   \"HowMany\":{\"$sum\":\"$count\"}}}]):\n",
    "    print(i)\n",
    "\n",
    "   "
   ]
  },
  {
   "cell_type": "code",
   "execution_count": 11,
   "id": "ce9a7c97-72ec-4aaf-96ff-c53233b3c464",
   "metadata": {},
   "outputs": [
    {
     "name": "stdout",
     "output_type": "stream",
     "text": [
      "{'Category': ['printer paper',\n",
      "              'notepad',\n",
      "              'pens',\n",
      "              'backpack',\n",
      "              'notepad',\n",
      "              'envelopes',\n",
      "              'envelopes',\n",
      "              'binder'],\n",
      " 'CouponUser': True,\n",
      " 'Prices': {'$numberDecimal': '40.01'}}\n",
      "{'Category': ['printer paper',\n",
      "              'notepad',\n",
      "              'pens',\n",
      "              'backpack',\n",
      "              'notepad',\n",
      "              'envelopes',\n",
      "              'envelopes',\n",
      "              'binder'],\n",
      " 'CouponUser': True,\n",
      " 'Prices': {'$numberDecimal': '35.29'}}\n",
      "{'Category': ['printer paper',\n",
      "              'notepad',\n",
      "              'pens',\n",
      "              'backpack',\n",
      "              'notepad',\n",
      "              'envelopes',\n",
      "              'envelopes',\n",
      "              'binder'],\n",
      " 'CouponUser': True,\n",
      " 'Prices': {'$numberDecimal': '56.12'}}\n",
      "{'Category': ['printer paper',\n",
      "              'notepad',\n",
      "              'pens',\n",
      "              'backpack',\n",
      "              'notepad',\n",
      "              'envelopes',\n",
      "              'envelopes',\n",
      "              'binder'],\n",
      " 'CouponUser': True,\n",
      " 'Prices': {'$numberDecimal': '77.71'}}\n",
      "{'Category': ['printer paper',\n",
      "              'notepad',\n",
      "              'pens',\n",
      "              'backpack',\n",
      "              'notepad',\n",
      "              'envelopes',\n",
      "              'envelopes',\n",
      "              'binder'],\n",
      " 'CouponUser': True,\n",
      " 'Prices': {'$numberDecimal': '18.47'}}\n",
      "{'Category': ['printer paper',\n",
      "              'notepad',\n",
      "              'pens',\n",
      "              'backpack',\n",
      "              'notepad',\n",
      "              'envelopes',\n",
      "              'envelopes',\n",
      "              'binder'],\n",
      " 'CouponUser': True,\n",
      " 'Prices': {'$numberDecimal': '19.95'}}\n",
      "{'Category': ['printer paper',\n",
      "              'notepad',\n",
      "              'pens',\n",
      "              'backpack',\n",
      "              'notepad',\n",
      "              'envelopes',\n",
      "              'envelopes',\n",
      "              'binder'],\n",
      " 'CouponUser': True,\n",
      " 'Prices': {'$numberDecimal': '8.08'}}\n",
      "{'Category': ['printer paper',\n",
      "              'notepad',\n",
      "              'pens',\n",
      "              'backpack',\n",
      "              'notepad',\n",
      "              'envelopes',\n",
      "              'envelopes',\n",
      "              'binder'],\n",
      " 'CouponUser': True,\n",
      " 'Prices': {'$numberDecimal': '14.16'}}\n"
     ]
    }
   ],
   "source": [
    "#alias쓰는 법 복습 & unwind\n",
    "\n",
    "for i in col.aggregate([{\"$project\":{\"_id\":0,\"CouponUser\":\"$couponUsed\",\"Category\":\"$items.name\",\"Prices\":\"$items.price\"}},{\"$limit\":1},{\"$unwind\":\"$Prices\"}]):\n",
    "    pprint(i)\n"
   ]
  },
  {
   "cell_type": "code",
   "execution_count": 29,
   "id": "d1e5d534-6e5b-488d-bd74-e2dd48a50bb3",
   "metadata": {},
   "outputs": [
    {
     "name": "stdout",
     "output_type": "stream",
     "text": [
      "{'Category': ['printer paper',\n",
      "              'notepad',\n",
      "              'pens',\n",
      "              'backpack',\n",
      "              'notepad',\n",
      "              'envelopes',\n",
      "              'envelopes',\n",
      "              'binder'],\n",
      " 'CouponUser': True,\n",
      " 'Prices': [{'$numberDecimal': '40.01'},\n",
      "            {'$numberDecimal': '35.29'},\n",
      "            {'$numberDecimal': '56.12'},\n",
      "            {'$numberDecimal': '77.71'},\n",
      "            {'$numberDecimal': '18.47'},\n",
      "            {'$numberDecimal': '19.95'},\n",
      "            {'$numberDecimal': '8.08'},\n",
      "            {'$numberDecimal': '14.16'}]}\n"
     ]
    }
   ],
   "source": [
    "#alias쓰는 법 복습 & unwind\n",
    "\n",
    "for i in col.aggregate([{\"$project\":{\"_id\":0,\"CouponUser\":\"$couponUsed\",\"Category\":\"$items.name\",\"Prices\":\"$items.price\"}},{\"$limit\":1}]):\n",
    "    pprint(i)"
   ]
  },
  {
   "cell_type": "code",
   "execution_count": 55,
   "id": "4fb1f50e-ae16-4e7b-8d56-262a3d9c4779",
   "metadata": {},
   "outputs": [
    {
     "name": "stdout",
     "output_type": "stream",
     "text": [
      "{'_id': ObjectId('61165e5dc6738d2fa99f5617'), 'age': '53'}\n",
      "{'_id': ObjectId('61165e5dc6738d2fa99f5618'), 'age': '53'}\n",
      "{'_id': ObjectId('61165e5dc6738d2fa99f5619'), 'age': '53'}\n"
     ]
    }
   ],
   "source": [
    "for i in db.limited.find(): #limited는 제한컬렉션이다.\n",
    "    print(i)"
   ]
  },
  {
   "cell_type": "code",
   "execution_count": 58,
   "id": "621c1ecb-cd36-467d-a40a-e1969289e556",
   "metadata": {},
   "outputs": [
    {
     "data": {
      "text/plain": [
       "<pymongo.results.InsertOneResult at 0x203c84416c0>"
      ]
     },
     "execution_count": 58,
     "metadata": {},
     "output_type": "execute_result"
    }
   ],
   "source": [
    "db.limited.insert_one({\"age\":\"55\"})"
   ]
  },
  {
   "cell_type": "code",
   "execution_count": 64,
   "id": "5834fb85-e419-4ef7-8914-802242cb3333",
   "metadata": {},
   "outputs": [
    {
     "name": "stdout",
     "output_type": "stream",
     "text": [
      "{'_id': ObjectId('61165e5dc6738d2fa99f5619'), '나이': 53}\n",
      "{'_id': ObjectId('61165e6dc6738d2fa99f561a'), '나이': 54}\n",
      "{'_id': ObjectId('61165e7ac6738d2fa99f561b'), '나이': 55}\n"
     ]
    }
   ],
   "source": [
    "#인트로 변환하여 보여주기!\n",
    "for i in db.limited.aggregate([{\"$project\":{\"나이\":{\"$toInt\":\"$age\"}}}]):\n",
    "    print(i)"
   ]
  },
  {
   "cell_type": "code",
   "execution_count": null,
   "id": "cd327eb3-b0ad-40b0-9fc3-6afd483c085a",
   "metadata": {},
   "outputs": [],
   "source": []
  }
 ],
 "metadata": {
  "kernelspec": {
   "display_name": "Python 3 (ipykernel)",
   "language": "python",
   "name": "python3"
  },
  "language_info": {
   "codemirror_mode": {
    "name": "ipython",
    "version": 3
   },
   "file_extension": ".py",
   "mimetype": "text/x-python",
   "name": "python",
   "nbconvert_exporter": "python",
   "pygments_lexer": "ipython3",
   "version": "3.9.4"
  }
 },
 "nbformat": 4,
 "nbformat_minor": 5
}
