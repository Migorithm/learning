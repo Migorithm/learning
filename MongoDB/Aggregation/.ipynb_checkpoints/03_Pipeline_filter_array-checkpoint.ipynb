{
 "cells": [
  {
   "cell_type": "code",
   "execution_count": 1,
   "id": "67b63e77-2b2b-473b-9188-d3492fd4908c",
   "metadata": {},
   "outputs": [],
   "source": [
    "import pymongo\n",
    "from pprint import pprint\n",
    "import pandas as pd\n",
    "import numpy as np\n",
    "from IPython.display import Image"
   ]
  },
  {
   "cell_type": "code",
   "execution_count": 2,
   "id": "4267b116-d1dc-4c36-b323-d71df557d6a3",
   "metadata": {},
   "outputs": [
    {
     "name": "stdout",
     "output_type": "stream",
     "text": [
      "{'_id': {'id': '5bd761dcae323e45a93ccfe8'},\n",
      " 'couponUsed': True,\n",
      " 'customer': {'age': {'$numberInt': '42'},\n",
      "              'email': 'cauho@witwuta.sv',\n",
      "              'gender': 'M',\n",
      "              'satisfaction': {'$numberInt': '4'}},\n",
      " 'items': [{'name': 'printer paper',\n",
      "            'price': {'$numberDecimal': '40.01'},\n",
      "            'quantity': {'$numberInt': '2'},\n",
      "            'tags': ['office', 'stationary']},\n",
      "           {'name': 'notepad',\n",
      "            'price': {'$numberDecimal': '35.29'},\n",
      "            'quantity': {'$numberInt': '2'},\n",
      "            'tags': ['office', 'writing', 'school']},\n",
      "           {'name': 'pens',\n",
      "            'price': {'$numberDecimal': '56.12'},\n",
      "            'quantity': {'$numberInt': '5'},\n",
      "            'tags': ['writing', 'office', 'school', 'stationary']},\n",
      "           {'name': 'backpack',\n",
      "            'price': {'$numberDecimal': '77.71'},\n",
      "            'quantity': {'$numberInt': '2'},\n",
      "            'tags': ['school', 'travel', 'kids']},\n",
      "           {'name': 'notepad',\n",
      "            'price': {'$numberDecimal': '18.47'},\n",
      "            'quantity': {'$numberInt': '2'},\n",
      "            'tags': ['office', 'writing', 'school']},\n",
      "           {'name': 'envelopes',\n",
      "            'price': {'$numberDecimal': '19.95'},\n",
      "            'quantity': {'$numberInt': '8'},\n",
      "            'tags': ['stationary', 'office', 'general']},\n",
      "           {'name': 'envelopes',\n",
      "            'price': {'$numberDecimal': '8.08'},\n",
      "            'quantity': {'$numberInt': '3'},\n",
      "            'tags': ['stationary', 'office', 'general']},\n",
      "           {'name': 'binder',\n",
      "            'price': {'$numberDecimal': '14.16'},\n",
      "            'quantity': {'$numberInt': '3'},\n",
      "            'tags': ['school', 'general', 'organization']}],\n",
      " 'purchaseMethod': 'Online',\n",
      " 'saleDate': {'$date': {'$numberLong': '1427144809506'}},\n",
      " 'storeLocation': 'Denver'}\n"
     ]
    }
   ],
   "source": [
    "connection =pymongo.MongoClient(\"localhost\",27017)\n",
    "db = connection.python\n",
    "col = db.sales\n",
    "for i in col.find().limit(1):\n",
    "    pprint(i)"
   ]
  },
  {
   "cell_type": "markdown",
   "id": "a5368b65-bd06-47d6-b00e-c2da41c53f9b",
   "metadata": {},
   "source": [
    "### Filter"
   ]
  },
  {
   "cell_type": "code",
   "execution_count": 7,
   "id": "cfb4ab7d-1cb6-4f02-be07-10896118bfa7",
   "metadata": {},
   "outputs": [
    {
     "name": "stdout",
     "output_type": "stream",
     "text": [
      "posts\n",
      "sudo\n",
      "fs.files\n",
      "chat\n",
      "sales\n",
      "login\n",
      "users\n",
      "limited\n",
      "fs.chunks\n",
      "nei\n",
      "res\n"
     ]
    }
   ],
   "source": [
    "for i in db.list_collection_names():\n",
    "    print(i)"
   ]
  },
  {
   "cell_type": "markdown",
   "id": "2ab3a33d-702f-46e4-9100-ae5c44a7b779",
   "metadata": {},
   "source": [
    "### Creating Test data"
   ]
  },
  {
   "cell_type": "code",
   "execution_count": 32,
   "id": "3d0358fd-889f-4326-b759-feefda4a9001",
   "metadata": {},
   "outputs": [],
   "source": [
    "import random\n",
    "\n",
    "def random_gen(name,dic):\n",
    "    \n",
    "    for i in range(len(dic['funding_rounds'])):\n",
    "        dic['funding_rounds'][i][\"raised_amount\"] = round(random.uniform(500000,10000000))\n",
    "    dic['name'] = name\n",
    "    return dic\n",
    "\n",
    "\n",
    "\n",
    "\n",
    "lst_of_name = [\"Facebook\",\"Google\",\"Naver\",\"Daum\",\"Coupang\",\"Baemin\",\"Line\"]\n",
    "\n",
    "for i in lst_of_name:\n",
    "    dic = {\"name\":\"\",\n",
    "            \"funding_rounds\":[\n",
    "            {\n",
    "            \"round_code\":\"a\",\n",
    "            \"raised_amount\":0},\n",
    "             {\n",
    "            \"round_code\":\"b\",\n",
    "            \"raised_amount\":0},\n",
    "             {\n",
    "            \"round_code\":\"c\",\n",
    "            \"raised_amount\":0},\n",
    "             {\n",
    "            \"round_code\":\"d\",\n",
    "            \"raised_amount\":0},\n",
    "             {\n",
    "            \"round_code\":\"e\",\n",
    "            \"raised_amount\":0},\n",
    "             {\n",
    "            \"round_code\":\"f\",\n",
    "            \"raised_amount\":0}\n",
    "            ]}\n",
    "    db.funds.insert_one(random_gen(i,dic))\n",
    "#빈 딕셔너리를 안에 지정하지 않으면 같은 dictionary로 인식되어 중복 키 에러를 일으킬 것"
   ]
  },
  {
   "cell_type": "code",
   "execution_count": 35,
   "id": "3db0b76b-993d-4dd0-ba7c-c06099837c30",
   "metadata": {
    "tags": []
   },
   "outputs": [
    {
     "name": "stdout",
     "output_type": "stream",
     "text": [
      "{'_id': ObjectId('61167af198608fe75d51477e'),\n",
      " 'funding_rounds': [{'raised_amount': 7172702, 'round_code': 'a'},\n",
      "                    {'raised_amount': 7914665, 'round_code': 'b'},\n",
      "                    {'raised_amount': 7915102, 'round_code': 'c'},\n",
      "                    {'raised_amount': 9297130, 'round_code': 'd'},\n",
      "                    {'raised_amount': 7519725, 'round_code': 'e'},\n",
      "                    {'raised_amount': 3479603, 'round_code': 'f'}],\n",
      " 'name': 'Facebook'}\n",
      "{'_id': ObjectId('61167af198608fe75d51477f'),\n",
      " 'funding_rounds': [{'raised_amount': 2716902, 'round_code': 'a'},\n",
      "                    {'raised_amount': 9737827, 'round_code': 'b'},\n",
      "                    {'raised_amount': 9606464, 'round_code': 'c'},\n",
      "                    {'raised_amount': 618771, 'round_code': 'd'},\n",
      "                    {'raised_amount': 509318, 'round_code': 'e'},\n",
      "                    {'raised_amount': 1924125, 'round_code': 'f'}],\n",
      " 'name': 'Google'}\n",
      "{'_id': ObjectId('61167af198608fe75d514780'),\n",
      " 'funding_rounds': [{'raised_amount': 9193583, 'round_code': 'a'},\n",
      "                    {'raised_amount': 3062527, 'round_code': 'b'},\n",
      "                    {'raised_amount': 5998487, 'round_code': 'c'},\n",
      "                    {'raised_amount': 6179664, 'round_code': 'd'},\n",
      "                    {'raised_amount': 2567725, 'round_code': 'e'},\n",
      "                    {'raised_amount': 4099935, 'round_code': 'f'}],\n",
      " 'name': 'Naver'}\n",
      "{'_id': ObjectId('61167af198608fe75d514781'),\n",
      " 'funding_rounds': [{'raised_amount': 4590945, 'round_code': 'a'},\n",
      "                    {'raised_amount': 6847730, 'round_code': 'b'},\n",
      "                    {'raised_amount': 4807965, 'round_code': 'c'},\n",
      "                    {'raised_amount': 7506110, 'round_code': 'd'},\n",
      "                    {'raised_amount': 4590778, 'round_code': 'e'},\n",
      "                    {'raised_amount': 2981034, 'round_code': 'f'}],\n",
      " 'name': 'Daum'}\n",
      "{'_id': ObjectId('61167af198608fe75d514782'),\n",
      " 'funding_rounds': [{'raised_amount': 8544121, 'round_code': 'a'},\n",
      "                    {'raised_amount': 2108116, 'round_code': 'b'},\n",
      "                    {'raised_amount': 3454778, 'round_code': 'c'},\n",
      "                    {'raised_amount': 4738163, 'round_code': 'd'},\n",
      "                    {'raised_amount': 2407252, 'round_code': 'e'},\n",
      "                    {'raised_amount': 573930, 'round_code': 'f'}],\n",
      " 'name': 'Coupang'}\n",
      "{'_id': ObjectId('61167af198608fe75d514783'),\n",
      " 'funding_rounds': [{'raised_amount': 9988785, 'round_code': 'a'},\n",
      "                    {'raised_amount': 4806901, 'round_code': 'b'},\n",
      "                    {'raised_amount': 5133156, 'round_code': 'c'},\n",
      "                    {'raised_amount': 8918466, 'round_code': 'd'},\n",
      "                    {'raised_amount': 8302021, 'round_code': 'e'},\n",
      "                    {'raised_amount': 1878589, 'round_code': 'f'}],\n",
      " 'name': 'Baemin'}\n",
      "{'_id': ObjectId('61167af198608fe75d514784'),\n",
      " 'funding_rounds': [{'raised_amount': 7330426, 'round_code': 'a'},\n",
      "                    {'raised_amount': 3512269, 'round_code': 'b'},\n",
      "                    {'raised_amount': 7343947, 'round_code': 'c'},\n",
      "                    {'raised_amount': 2339675, 'round_code': 'd'},\n",
      "                    {'raised_amount': 2116981, 'round_code': 'e'},\n",
      "                    {'raised_amount': 6102968, 'round_code': 'f'}],\n",
      " 'name': 'Line'}\n"
     ]
    }
   ],
   "source": [
    "for i in db.funds.find():\n",
    "    pprint(i)"
   ]
  },
  {
   "cell_type": "markdown",
   "id": "dcbc3f96-6b36-4708-afa5-ff2134ae0afe",
   "metadata": {},
   "source": [
    "### Filter적용\n",
    "- \\$match\n",
    "- \\$expr\n",
    "- \\$strLenCP\n",
    "- \\$filter\n",
    "- \\$gt   \n",
    "    - aggregation에서 gt는 배열형태 띄고 첫번째를 비교할 인자, 두번째는 기준 숫자가 된다.\n",
    "    - \"\\\\$gt\": \\[\\{\"\\\\$strLenCP\": \"\\\\$name\" }, 6 ]  "
   ]
  },
  {
   "cell_type": "code",
   "execution_count": 41,
   "id": "2351ab0a-5d52-4f4e-96a1-315802b1bc1f",
   "metadata": {},
   "outputs": [
    {
     "name": "stdout",
     "output_type": "stream",
     "text": [
      "{'_id': ObjectId('61167af198608fe75d51477e'),\n",
      " 'funding_rounds': [{'raised_amount': 7172702, 'round_code': 'a'},\n",
      "                    {'raised_amount': 7914665, 'round_code': 'b'},\n",
      "                    {'raised_amount': 7915102, 'round_code': 'c'},\n",
      "                    {'raised_amount': 9297130, 'round_code': 'd'},\n",
      "                    {'raised_amount': 7519725, 'round_code': 'e'},\n",
      "                    {'raised_amount': 3479603, 'round_code': 'f'}],\n",
      " 'name': 'Facebook'}\n",
      "{'_id': ObjectId('61167af198608fe75d514782'),\n",
      " 'funding_rounds': [{'raised_amount': 8544121, 'round_code': 'a'},\n",
      "                    {'raised_amount': 2108116, 'round_code': 'b'},\n",
      "                    {'raised_amount': 3454778, 'round_code': 'c'},\n",
      "                    {'raised_amount': 4738163, 'round_code': 'd'},\n",
      "                    {'raised_amount': 2407252, 'round_code': 'e'},\n",
      "                    {'raised_amount': 573930, 'round_code': 'f'}],\n",
      " 'name': 'Coupang'}\n"
     ]
    }
   ],
   "source": [
    "#이름이 몇 글자 이상인 것만 필터링 하겠다.\n",
    "for i in db.funds.aggregate([{\"$match\":{\"$expr\": { \"$gt\": [ { \"$strLenCP\": \"$name\" }, 6 ] }}}]):\n",
    "    pprint(i)"
   ]
  },
  {
   "cell_type": "markdown",
   "id": "0b23b4a2-17c1-4c48-9ab0-875d09773fac",
   "metadata": {},
   "source": [
    "#### \\\\$filter\n",
    "- 여러가지 조건을 가진다.<br>\n",
    "    1) 입력될 배열 - input : \n",
    "    2) 입력될 배열을 참조하기 위한 이름 - as : \n",
    "    3) 조건 - cond : "
   ]
  },
  {
   "cell_type": "code",
   "execution_count": 51,
   "id": "7e2ae76b-a955-4c3b-961d-7836501206b5",
   "metadata": {},
   "outputs": [
    {
     "name": "stdout",
     "output_type": "stream",
     "text": [
      "{'amount': [{'raised_amount': 7172702, 'round_code': 'a'},\n",
      "            {'raised_amount': 7914665, 'round_code': 'b'},\n",
      "            {'raised_amount': 7915102, 'round_code': 'c'},\n",
      "            {'raised_amount': 9297130, 'round_code': 'd'},\n",
      "            {'raised_amount': 7519725, 'round_code': 'e'}],\n",
      " 'name': 'Facebook'}\n",
      "{'amount': [{'raised_amount': 8544121, 'round_code': 'a'},\n",
      "            {'raised_amount': 4738163, 'round_code': 'd'}],\n",
      " 'name': 'Coupang'}\n"
     ]
    }
   ],
   "source": [
    "for i in db.funds.aggregate([{\"$match\":{\"$expr\": { \"$gt\": [ { \"$strLenCP\": \"$name\" }, 6 ] }}},\n",
    "                             {\"$project\":{\n",
    "                                 \"_id\":0,\n",
    "                                 \"name\":1,\n",
    "                                 \"amount\":{\"$filter\":{\n",
    "                                     \"input\":\"$funding_rounds\", #어떤 배열이 인풋 정보가 될 것인가.\n",
    "                                     \"as\":\"round\",\n",
    "                                     \"cond\":{\"$gte\":[\"$$round.raised_amount\",4738163]} #해당 금액 이상의 배열만 출력한다.\n",
    "                                 }}\n",
    "                             }}]):\n",
    "    pprint(i)\n",
    "    \n",
    "    "
   ]
  },
  {
   "cell_type": "markdown",
   "id": "c8c6b40a-c67c-4a43-98dd-557e2a71bc8f",
   "metadata": {},
   "source": [
    "#### \\\\$arrayElemAt\n"
   ]
  },
  {
   "cell_type": "code",
   "execution_count": 65,
   "id": "71854a01-9afd-44e1-b7c0-e88f5af11eef",
   "metadata": {},
   "outputs": [
    {
     "name": "stdout",
     "output_type": "stream",
     "text": [
      "{'difference': 3693099,\n",
      " 'final_round': 3479603,\n",
      " 'first_round': 7172702,\n",
      " 'name': 'Facebook'}\n",
      "{'difference': 7970191,\n",
      " 'final_round': 573930,\n",
      " 'first_round': 8544121,\n",
      " 'name': 'Coupang'}\n"
     ]
    }
   ],
   "source": [
    "for i in db.funds.aggregate([{\"$match\":{\"$expr\": { \"$gt\": [ { \"$strLenCP\": \"$name\" }, 6 ] }}},\n",
    "                             {\"$project\":{\n",
    "                                 \"_id\":0,\n",
    "                                 \"name\":1,\n",
    "                                 \"first_round\":{\"$arrayElemAt\":[\"$funding_rounds.raised_amount\",0]},\n",
    "                                 \"final_round\":{\"$arrayElemAt\":[\"$funding_rounds.raised_amount\",-1]},\n",
    "                                 }\n",
    "                             },\n",
    "                            {\"$project\":{\n",
    "                                 \"_id\":0,\n",
    "                                 \"name\":1,\n",
    "                                 \"first_round\":1,\n",
    "                                 \"final_round\":1,\n",
    "                                 \"difference\":{\"$subtract\":[\"$first_round\",\"$final_round\"]}}}]):\n",
    "    pprint(i)\n",
    "#why did I use project twice? it's because it cannot refer to things that hasn't assigned the value to."
   ]
  },
  {
   "cell_type": "code",
   "execution_count": null,
   "id": "8cf96dd0-4eed-4da9-af47-cfaf1bab7689",
   "metadata": {},
   "outputs": [],
   "source": []
  },
  {
   "cell_type": "code",
   "execution_count": null,
   "id": "3e0d21d3-17a2-4448-a01b-8141fa8e99c8",
   "metadata": {},
   "outputs": [],
   "source": []
  }
 ],
 "metadata": {
  "kernelspec": {
   "display_name": "Python 3 (ipykernel)",
   "language": "python",
   "name": "python3"
  },
  "language_info": {
   "codemirror_mode": {
    "name": "ipython",
    "version": 3
   },
   "file_extension": ".py",
   "mimetype": "text/x-python",
   "name": "python",
   "nbconvert_exporter": "python",
   "pygments_lexer": "ipython3",
   "version": "3.9.4"
  }
 },
 "nbformat": 4,
 "nbformat_minor": 5
}
