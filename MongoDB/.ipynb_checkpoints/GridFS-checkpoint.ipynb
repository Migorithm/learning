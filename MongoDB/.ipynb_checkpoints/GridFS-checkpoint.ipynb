{
 "cells": [
  {
   "cell_type": "markdown",
   "id": "b3c04a16",
   "metadata": {},
   "source": [
    "### Configuration"
   ]
  },
  {
   "cell_type": "code",
   "execution_count": 1,
   "id": "1c9cc6ae",
   "metadata": {},
   "outputs": [],
   "source": [
    "import numpy as np\n",
    "import pandas as pd\n",
    "from pymongo import MongoClient\n",
    "from pprint import pprint\n",
    "\n",
    "#GridFS사용을 위해서 필요한 모듈.\n",
    "import gridfs"
   ]
  },
  {
   "cell_type": "code",
   "execution_count": 3,
   "id": "a34ee8de",
   "metadata": {},
   "outputs": [],
   "source": [
    "from IPython.display import Image"
   ]
  },
  {
   "cell_type": "markdown",
   "id": "bb52dc86",
   "metadata": {},
   "source": [
    "### Mongo connect"
   ]
  },
  {
   "cell_type": "code",
   "execution_count": 12,
   "id": "c6412592",
   "metadata": {},
   "outputs": [],
   "source": [
    "client = MongoClient(\"localhost\",27017)\n",
    "db = client.python\n",
    "fs = gridfs.GridFS(db)\n"
   ]
  },
  {
   "cell_type": "markdown",
   "id": "4a2d0aad",
   "metadata": {},
   "source": [
    "### Pickling image(to make it binary)"
   ]
  },
  {
   "cell_type": "code",
   "execution_count": 7,
   "id": "bc0f4339",
   "metadata": {},
   "outputs": [],
   "source": [
    "import pickle"
   ]
  },
  {
   "cell_type": "code",
   "execution_count": 9,
   "id": "dc8ce2fc",
   "metadata": {},
   "outputs": [],
   "source": [
    "apple = pickle.dumps(Image(url=\"https://upload.wikimedia.org/wikipedia/commons/thumb/a/a6/Pink_lady_and_cross_section.jpg/1920px-Pink_lady_and_cross_section.jpg\"))\n"
   ]
  },
  {
   "cell_type": "code",
   "execution_count": 13,
   "id": "dcdfe09b",
   "metadata": {},
   "outputs": [],
   "source": [
    "#저장하는 것과 동시에 해당 file에 대한 Objectid를 리턴해준다. \n",
    "file_id = fs.put(apple,filename=\"apple\")\n"
   ]
  },
  {
   "cell_type": "code",
   "execution_count": 21,
   "id": "88df136e",
   "metadata": {},
   "outputs": [
    {
     "data": {
      "text/plain": [
       "bson.objectid.ObjectId"
      ]
     },
     "execution_count": 21,
     "metadata": {},
     "output_type": "execute_result"
    }
   ],
   "source": [
    "file_id"
   ]
  },
  {
   "cell_type": "code",
   "execution_count": 14,
   "id": "85afb288",
   "metadata": {},
   "outputs": [
    {
     "data": {
      "text/plain": [
       "['apple', 'neighborhoods.json']"
      ]
     },
     "execution_count": 14,
     "metadata": {},
     "output_type": "execute_result"
    }
   ],
   "source": [
    "fs.list()"
   ]
  },
  {
   "cell_type": "code",
   "execution_count": 19,
   "id": "bb0f3357",
   "metadata": {},
   "outputs": [
    {
     "data": {
      "text/html": [
       "<img src=\"https://upload.wikimedia.org/wikipedia/commons/thumb/a/a6/Pink_lady_and_cross_section.jpg/1920px-Pink_lady_and_cross_section.jpg\"/>"
      ],
      "text/plain": [
       "<IPython.core.display.Image object>"
      ]
     },
     "execution_count": 19,
     "metadata": {},
     "output_type": "execute_result"
    }
   ],
   "source": [
    "pickle.loads(fs.get(file_id).read())"
   ]
  }
 ],
 "metadata": {
  "kernelspec": {
   "display_name": "Python 3",
   "language": "python",
   "name": "python3"
  },
  "language_info": {
   "codemirror_mode": {
    "name": "ipython",
    "version": 3
   },
   "file_extension": ".py",
   "mimetype": "text/x-python",
   "name": "python",
   "nbconvert_exporter": "python",
   "pygments_lexer": "ipython3",
   "version": "3.8.8"
  },
  "toc": {
   "base_numbering": 1,
   "nav_menu": {},
   "number_sections": true,
   "sideBar": true,
   "skip_h1_title": false,
   "title_cell": "Table of Contents",
   "title_sidebar": "Contents",
   "toc_cell": false,
   "toc_position": {},
   "toc_section_display": true,
   "toc_window_display": false
  }
 },
 "nbformat": 4,
 "nbformat_minor": 5
}
