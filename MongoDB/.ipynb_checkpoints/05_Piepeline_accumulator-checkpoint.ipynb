{
 "cells": [
  {
   "cell_type": "code",
   "execution_count": 1,
   "id": "3d6c3149-5ac1-4bf7-8579-1392690fb5c6",
   "metadata": {},
   "outputs": [
    {
     "name": "stdout",
     "output_type": "stream",
     "text": [
      "{'_id': ObjectId('61167af198608fe75d51477e'),\n",
      " 'funding_rounds': [{'raised_amount': 7172702, 'round_code': 'a'},\n",
      "                    {'raised_amount': 7914665, 'round_code': 'b'},\n",
      "                    {'raised_amount': 7915102, 'round_code': 'c'},\n",
      "                    {'raised_amount': 9297130, 'round_code': 'd'},\n",
      "                    {'raised_amount': 7519725, 'round_code': 'e'},\n",
      "                    {'raised_amount': 3479603, 'round_code': 'f'}],\n",
      " 'name': 'Facebook'}\n"
     ]
    }
   ],
   "source": [
    "import pymongo\n",
    "from pprint import pprint\n",
    "import pandas as pd\n",
    "import numpy as np\n",
    "from IPython.display import Image\n",
    "\n",
    "connection =pymongo.MongoClient(\"localhost\",27017)\n",
    "db = connection.python\n",
    "\n",
    "for i in db.funds.find().limit(1):\n",
    "    pprint(i)"
   ]
  },
  {
   "cell_type": "markdown",
   "id": "da2bc0bc-7422-4d7f-a761-fdd385a43da5",
   "metadata": {},
   "source": [
    "<br><br>\n",
    "\n",
    "---\n",
    "\n",
    "### Accumulator at \"\\$project\" level"
   ]
  },
  {
   "cell_type": "code",
   "execution_count": 15,
   "id": "c79b7509-0acd-4ab7-8082-6624cefff2ff",
   "metadata": {},
   "outputs": [
    {
     "name": "stdout",
     "output_type": "stream",
     "text": [
      "{'largest_round': 9297130, 'name': 'Facebook'}\n",
      "{'largest_round': 9737827, 'name': 'Google'}\n",
      "{'largest_round': 9193583, 'name': 'Naver'}\n",
      "{'largest_round': 7506110, 'name': 'Daum'}\n",
      "{'largest_round': 8544121, 'name': 'Coupang'}\n",
      "{'largest_round': 9988785, 'name': 'Baemin'}\n",
      "{'largest_round': 7343947, 'name': 'Line'}\n"
     ]
    }
   ],
   "source": [
    "for i in db.funds.aggregate([\n",
    "    {\"$match\":{\"funding_rounds\":{\"$exists\":True,\"$ne\":[]}}},\n",
    "    {\"$project\":{\"_id\":0,\"name\":1,\"largest_round\":{\"$max\":\"$funding_rounds.raised_amount\"}}}]):\n",
    "    pprint(i)\n",
    "    "
   ]
  }
 ],
 "metadata": {
  "kernelspec": {
   "display_name": "Python 3 (ipykernel)",
   "language": "python",
   "name": "python3"
  },
  "language_info": {
   "codemirror_mode": {
    "name": "ipython",
    "version": 3
   },
   "file_extension": ".py",
   "mimetype": "text/x-python",
   "name": "python",
   "nbconvert_exporter": "python",
   "pygments_lexer": "ipython3",
   "version": "3.9.4"
  }
 },
 "nbformat": 4,
 "nbformat_minor": 5
}
