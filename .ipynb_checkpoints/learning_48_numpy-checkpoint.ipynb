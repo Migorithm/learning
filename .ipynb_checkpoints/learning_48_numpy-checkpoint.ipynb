{
 "cells": [
  {
   "cell_type": "markdown",
   "id": "9479e879-1647-43ba-a250-6d801387f7c2",
   "metadata": {},
   "source": [
    "#### recap!  Indexing and conditional slicing\n"
   ]
  },
  {
   "cell_type": "code",
   "execution_count": 2,
   "id": "f8f7f14b-7dfa-40fe-847a-8375ddac6e4d",
   "metadata": {},
   "outputs": [],
   "source": [
    "import numpy as np"
   ]
  },
  {
   "cell_type": "code",
   "execution_count": 3,
   "id": "8a433338-63c5-4985-aeb3-c549238a3b2f",
   "metadata": {},
   "outputs": [],
   "source": [
    "lst = [range(20)]"
   ]
  },
  {
   "cell_type": "code",
   "execution_count": 6,
   "id": "fca42dac-880b-4740-a9a0-19ca4955a35b",
   "metadata": {},
   "outputs": [
    {
     "name": "stdout",
     "output_type": "stream",
     "text": [
      "[[ 0  1  2  3  4]\n",
      " [ 5  6  7  8  9]\n",
      " [10 11 12 13 14]\n",
      " [15 16 17 18 19]]\n"
     ]
    }
   ],
   "source": [
    "arr = np.array(lst).reshape(4,5)\n",
    "print(arr)"
   ]
  },
  {
   "cell_type": "code",
   "execution_count": 13,
   "id": "a5a61f74-207d-4173-be34-38357a74707a",
   "metadata": {},
   "outputs": [
    {
     "data": {
      "text/plain": [
       "array([ 3,  4,  5,  6,  7,  8,  9, 10, 11, 12, 13])"
      ]
     },
     "execution_count": 13,
     "metadata": {},
     "output_type": "execute_result"
    }
   ],
   "source": [
    "arr[arr<14][3:]"
   ]
  },
  {
   "cell_type": "code",
   "execution_count": 36,
   "id": "5f9bc9cd-b5c1-404f-ac74-7c6d34c9e905",
   "metadata": {},
   "outputs": [
    {
     "data": {
      "text/plain": [
       "array([[False, False, False, False, False],\n",
       "       [False,  True,  True,  True,  True],\n",
       "       [ True,  True,  True,  True,  True],\n",
       "       [ True,  True,  True,  True,  True]])"
      ]
     },
     "execution_count": 36,
     "metadata": {},
     "output_type": "execute_result"
    }
   ],
   "source": [
    "a = arr>5 #this returns an array\n",
    "a"
   ]
  },
  {
   "cell_type": "code",
   "execution_count": 68,
   "id": "1e21f147-2736-4a04-bdf0-f7c8315c6481",
   "metadata": {},
   "outputs": [
    {
     "name": "stdout",
     "output_type": "stream",
     "text": [
      "[[1. 0. 0. 0. 0.]\n",
      " [0. 1. 0. 0. 0.]\n",
      " [0. 0. 1. 0. 0.]\n",
      " [0. 0. 0. 1. 0.]]\n"
     ]
    }
   ],
   "source": [
    "b = np.eye(4,5)\n",
    "print(b)\n"
   ]
  },
  {
   "cell_type": "code",
   "execution_count": 72,
   "id": "c946744f-f5e6-4cdb-9090-bbc86c34cf38",
   "metadata": {},
   "outputs": [],
   "source": [
    "c= np.where(b==1,2,b)  "
   ]
  },
  {
   "cell_type": "code",
   "execution_count": 73,
   "id": "6617e937-31cd-4daa-8e4d-2a2ed8100600",
   "metadata": {},
   "outputs": [
    {
     "data": {
      "text/plain": [
       "array([[2., 0., 0., 0., 0.],\n",
       "       [0., 2., 0., 0., 0.],\n",
       "       [0., 0., 2., 0., 0.],\n",
       "       [0., 0., 0., 2., 0.]])"
      ]
     },
     "execution_count": 73,
     "metadata": {},
     "output_type": "execute_result"
    }
   ],
   "source": [
    "c"
   ]
  },
  {
   "cell_type": "code",
   "execution_count": 76,
   "id": "de7a046d-3eb1-4ccc-9201-31f36ab16696",
   "metadata": {},
   "outputs": [
    {
     "data": {
      "text/plain": [
       "array([ 0.        ,  0.6122449 ,  1.2244898 ,  1.83673469,  2.44897959,\n",
       "        3.06122449,  3.67346939,  4.28571429,  4.89795918,  5.51020408,\n",
       "        6.12244898,  6.73469388,  7.34693878,  7.95918367,  8.57142857,\n",
       "        9.18367347,  9.79591837, 10.40816327, 11.02040816, 11.63265306,\n",
       "       12.24489796, 12.85714286, 13.46938776, 14.08163265, 14.69387755,\n",
       "       15.30612245, 15.91836735, 16.53061224, 17.14285714, 17.75510204,\n",
       "       18.36734694, 18.97959184, 19.59183673, 20.20408163, 20.81632653,\n",
       "       21.42857143, 22.04081633, 22.65306122, 23.26530612, 23.87755102,\n",
       "       24.48979592, 25.10204082, 25.71428571, 26.32653061, 26.93877551,\n",
       "       27.55102041, 28.16326531, 28.7755102 , 29.3877551 , 30.        ])"
      ]
     },
     "execution_count": 76,
     "metadata": {},
     "output_type": "execute_result"
    }
   ],
   "source": [
    "d = np.linspace(0,30)\n",
    "d"
   ]
  },
  {
   "cell_type": "code",
   "execution_count": 77,
   "id": "5095d0c7-9782-4ad7-9d5d-550187a8b033",
   "metadata": {},
   "outputs": [
    {
     "data": {
      "text/plain": [
       "array([[ 0.        ,  0.6122449 ],\n",
       "       [ 1.2244898 ,  1.83673469],\n",
       "       [ 2.44897959,  3.06122449],\n",
       "       [ 3.67346939,  4.28571429],\n",
       "       [ 4.89795918,  5.51020408],\n",
       "       [ 6.12244898,  6.73469388],\n",
       "       [ 7.34693878,  7.95918367],\n",
       "       [ 8.57142857,  9.18367347],\n",
       "       [ 9.79591837, 10.40816327],\n",
       "       [11.02040816, 11.63265306],\n",
       "       [12.24489796, 12.85714286],\n",
       "       [13.46938776, 14.08163265],\n",
       "       [14.69387755, 15.30612245],\n",
       "       [15.91836735, 16.53061224],\n",
       "       [17.14285714, 17.75510204],\n",
       "       [18.36734694, 18.97959184],\n",
       "       [19.59183673, 20.20408163],\n",
       "       [20.81632653, 21.42857143],\n",
       "       [22.04081633, 22.65306122],\n",
       "       [23.26530612, 23.87755102],\n",
       "       [24.48979592, 25.10204082],\n",
       "       [25.71428571, 26.32653061],\n",
       "       [26.93877551, 27.55102041],\n",
       "       [28.16326531, 28.7755102 ],\n",
       "       [29.3877551 , 30.        ]])"
      ]
     },
     "execution_count": 77,
     "metadata": {},
     "output_type": "execute_result"
    }
   ],
   "source": [
    "d.reshape(int(d.size/2),2)"
   ]
  },
  {
   "cell_type": "code",
   "execution_count": 79,
   "id": "3c43bf11-e6f3-4274-947c-335e971911cd",
   "metadata": {},
   "outputs": [
    {
     "data": {
      "text/plain": [
       "array([[ 0.        ,  0.6122449 ],\n",
       "       [ 1.2244898 ,  1.83673469],\n",
       "       [ 2.44897959,  3.06122449],\n",
       "       [ 3.67346939,  4.28571429],\n",
       "       [ 4.89795918,  5.51020408],\n",
       "       [ 6.12244898,  6.73469388],\n",
       "       [ 7.34693878,  7.95918367],\n",
       "       [ 8.57142857,  9.18367347],\n",
       "       [ 9.79591837, 10.40816327],\n",
       "       [11.02040816, 11.63265306],\n",
       "       [12.24489796, 12.85714286],\n",
       "       [13.46938776, 14.08163265],\n",
       "       [14.69387755, 18.30612245],\n",
       "       [18.91836735, 19.53061224],\n",
       "       [20.14285714, 20.75510204],\n",
       "       [21.36734694, 21.97959184],\n",
       "       [22.59183673, 23.20408163],\n",
       "       [23.81632653, 24.42857143],\n",
       "       [25.04081633, 25.65306122],\n",
       "       [26.26530612, 26.87755102],\n",
       "       [27.48979592, 28.10204082],\n",
       "       [28.71428571, 29.32653061],\n",
       "       [29.93877551, 30.55102041],\n",
       "       [31.16326531, 31.7755102 ],\n",
       "       [32.3877551 , 33.        ]])"
      ]
     },
     "execution_count": 79,
     "metadata": {},
     "output_type": "execute_result"
    }
   ],
   "source": [
    "np.where(d>15,d+3,d).reshape(int(d.size/2),2)"
   ]
  }
 ],
 "metadata": {
  "kernelspec": {
   "display_name": "Python 3 (ipykernel)",
   "language": "python",
   "name": "python3"
  },
  "language_info": {
   "codemirror_mode": {
    "name": "ipython",
    "version": 3
   },
   "file_extension": ".py",
   "mimetype": "text/x-python",
   "name": "python",
   "nbconvert_exporter": "python",
   "pygments_lexer": "ipython3",
   "version": "3.9.4"
  }
 },
 "nbformat": 4,
 "nbformat_minor": 5
}
